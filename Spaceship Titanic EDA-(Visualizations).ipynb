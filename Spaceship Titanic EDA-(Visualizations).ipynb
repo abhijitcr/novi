{
 "cells": [
  {
   "cell_type": "code",
   "execution_count": 1,
   "id": "d8c0a445",
   "metadata": {},
   "outputs": [],
   "source": [
    "import numpy as np\n",
    "import pandas as pd\n",
    "import matplotlib.pyplot as plt\n",
    "import seaborn as sns\n",
    "from sklearn.impute import SimpleImputer\n",
    "from sklearn.preprocessing import LabelEncoder\n",
    "from sklearn.model_selection import train_test_split\n",
    "from sklearn.svm import SVC\n",
    "from sklearn.linear_model import LogisticRegression\n",
    "from sklearn.ensemble import RandomForestClassifier\n",
    "from catboost import CatBoostClassifier\n",
    "from sklearn.ensemble import GradientBoostingClassifier\n",
    "from sklearn.ensemble import HistGradientBoostingClassifier\n",
    "from sklearn.ensemble import AdaBoostClassifier\n",
    "import xgboost as xgb\n",
    "from xgboost import XGBClassifier\n",
    "import lightgbm as lgb\n",
    "from sklearn.ensemble import VotingClassifier\n",
    "from sklearn.model_selection import cross_val_score\n",
    "from sklearn.preprocessing import MinMaxScaler\n",
    "from sklearn.metrics import accuracy_score\n",
    "from sklearn.model_selection import GridSearchCV"
   ]
  },
  {
   "cell_type": "code",
   "execution_count": 2,
   "id": "37d8758b",
   "metadata": {},
   "outputs": [],
   "source": [
    "train = pd.read_csv('train.csv')\n",
    "test = pd.read_csv('test.csv')\n",
    "sub = pd.read_csv('sample_submission.csv')"
   ]
  },
  {
   "cell_type": "code",
   "execution_count": 3,
   "id": "e09643c2",
   "metadata": {},
   "outputs": [
    {
     "data": {
      "text/html": [
       "<div>\n",
       "<style scoped>\n",
       "    .dataframe tbody tr th:only-of-type {\n",
       "        vertical-align: middle;\n",
       "    }\n",
       "\n",
       "    .dataframe tbody tr th {\n",
       "        vertical-align: top;\n",
       "    }\n",
       "\n",
       "    .dataframe thead th {\n",
       "        text-align: right;\n",
       "    }\n",
       "</style>\n",
       "<table border=\"1\" class=\"dataframe\">\n",
       "  <thead>\n",
       "    <tr style=\"text-align: right;\">\n",
       "      <th></th>\n",
       "      <th>PassengerId</th>\n",
       "      <th>HomePlanet</th>\n",
       "      <th>CryoSleep</th>\n",
       "      <th>Cabin</th>\n",
       "      <th>Destination</th>\n",
       "      <th>Age</th>\n",
       "      <th>VIP</th>\n",
       "      <th>RoomService</th>\n",
       "      <th>FoodCourt</th>\n",
       "      <th>ShoppingMall</th>\n",
       "      <th>Spa</th>\n",
       "      <th>VRDeck</th>\n",
       "      <th>Name</th>\n",
       "      <th>Transported</th>\n",
       "    </tr>\n",
       "  </thead>\n",
       "  <tbody>\n",
       "    <tr>\n",
       "      <th>0</th>\n",
       "      <td>0001_01</td>\n",
       "      <td>Europa</td>\n",
       "      <td>False</td>\n",
       "      <td>B/0/P</td>\n",
       "      <td>TRAPPIST-1e</td>\n",
       "      <td>39.0</td>\n",
       "      <td>False</td>\n",
       "      <td>0.0</td>\n",
       "      <td>0.0</td>\n",
       "      <td>0.0</td>\n",
       "      <td>0.0</td>\n",
       "      <td>0.0</td>\n",
       "      <td>Maham Ofracculy</td>\n",
       "      <td>False</td>\n",
       "    </tr>\n",
       "    <tr>\n",
       "      <th>1</th>\n",
       "      <td>0002_01</td>\n",
       "      <td>Earth</td>\n",
       "      <td>False</td>\n",
       "      <td>F/0/S</td>\n",
       "      <td>TRAPPIST-1e</td>\n",
       "      <td>24.0</td>\n",
       "      <td>False</td>\n",
       "      <td>109.0</td>\n",
       "      <td>9.0</td>\n",
       "      <td>25.0</td>\n",
       "      <td>549.0</td>\n",
       "      <td>44.0</td>\n",
       "      <td>Juanna Vines</td>\n",
       "      <td>True</td>\n",
       "    </tr>\n",
       "    <tr>\n",
       "      <th>2</th>\n",
       "      <td>0003_01</td>\n",
       "      <td>Europa</td>\n",
       "      <td>False</td>\n",
       "      <td>A/0/S</td>\n",
       "      <td>TRAPPIST-1e</td>\n",
       "      <td>58.0</td>\n",
       "      <td>True</td>\n",
       "      <td>43.0</td>\n",
       "      <td>3576.0</td>\n",
       "      <td>0.0</td>\n",
       "      <td>6715.0</td>\n",
       "      <td>49.0</td>\n",
       "      <td>Altark Susent</td>\n",
       "      <td>False</td>\n",
       "    </tr>\n",
       "    <tr>\n",
       "      <th>3</th>\n",
       "      <td>0003_02</td>\n",
       "      <td>Europa</td>\n",
       "      <td>False</td>\n",
       "      <td>A/0/S</td>\n",
       "      <td>TRAPPIST-1e</td>\n",
       "      <td>33.0</td>\n",
       "      <td>False</td>\n",
       "      <td>0.0</td>\n",
       "      <td>1283.0</td>\n",
       "      <td>371.0</td>\n",
       "      <td>3329.0</td>\n",
       "      <td>193.0</td>\n",
       "      <td>Solam Susent</td>\n",
       "      <td>False</td>\n",
       "    </tr>\n",
       "    <tr>\n",
       "      <th>4</th>\n",
       "      <td>0004_01</td>\n",
       "      <td>Earth</td>\n",
       "      <td>False</td>\n",
       "      <td>F/1/S</td>\n",
       "      <td>TRAPPIST-1e</td>\n",
       "      <td>16.0</td>\n",
       "      <td>False</td>\n",
       "      <td>303.0</td>\n",
       "      <td>70.0</td>\n",
       "      <td>151.0</td>\n",
       "      <td>565.0</td>\n",
       "      <td>2.0</td>\n",
       "      <td>Willy Santantines</td>\n",
       "      <td>True</td>\n",
       "    </tr>\n",
       "    <tr>\n",
       "      <th>5</th>\n",
       "      <td>0005_01</td>\n",
       "      <td>Earth</td>\n",
       "      <td>False</td>\n",
       "      <td>F/0/P</td>\n",
       "      <td>PSO J318.5-22</td>\n",
       "      <td>44.0</td>\n",
       "      <td>False</td>\n",
       "      <td>0.0</td>\n",
       "      <td>483.0</td>\n",
       "      <td>0.0</td>\n",
       "      <td>291.0</td>\n",
       "      <td>0.0</td>\n",
       "      <td>Sandie Hinetthews</td>\n",
       "      <td>True</td>\n",
       "    </tr>\n",
       "    <tr>\n",
       "      <th>6</th>\n",
       "      <td>0006_01</td>\n",
       "      <td>Earth</td>\n",
       "      <td>False</td>\n",
       "      <td>F/2/S</td>\n",
       "      <td>TRAPPIST-1e</td>\n",
       "      <td>26.0</td>\n",
       "      <td>False</td>\n",
       "      <td>42.0</td>\n",
       "      <td>1539.0</td>\n",
       "      <td>3.0</td>\n",
       "      <td>0.0</td>\n",
       "      <td>0.0</td>\n",
       "      <td>Billex Jacostaffey</td>\n",
       "      <td>True</td>\n",
       "    </tr>\n",
       "    <tr>\n",
       "      <th>7</th>\n",
       "      <td>0006_02</td>\n",
       "      <td>Earth</td>\n",
       "      <td>True</td>\n",
       "      <td>G/0/S</td>\n",
       "      <td>TRAPPIST-1e</td>\n",
       "      <td>28.0</td>\n",
       "      <td>False</td>\n",
       "      <td>0.0</td>\n",
       "      <td>0.0</td>\n",
       "      <td>0.0</td>\n",
       "      <td>0.0</td>\n",
       "      <td>NaN</td>\n",
       "      <td>Candra Jacostaffey</td>\n",
       "      <td>True</td>\n",
       "    </tr>\n",
       "    <tr>\n",
       "      <th>8</th>\n",
       "      <td>0007_01</td>\n",
       "      <td>Earth</td>\n",
       "      <td>False</td>\n",
       "      <td>F/3/S</td>\n",
       "      <td>TRAPPIST-1e</td>\n",
       "      <td>35.0</td>\n",
       "      <td>False</td>\n",
       "      <td>0.0</td>\n",
       "      <td>785.0</td>\n",
       "      <td>17.0</td>\n",
       "      <td>216.0</td>\n",
       "      <td>0.0</td>\n",
       "      <td>Andona Beston</td>\n",
       "      <td>True</td>\n",
       "    </tr>\n",
       "    <tr>\n",
       "      <th>9</th>\n",
       "      <td>0008_01</td>\n",
       "      <td>Europa</td>\n",
       "      <td>True</td>\n",
       "      <td>B/1/P</td>\n",
       "      <td>55 Cancri e</td>\n",
       "      <td>14.0</td>\n",
       "      <td>False</td>\n",
       "      <td>0.0</td>\n",
       "      <td>0.0</td>\n",
       "      <td>0.0</td>\n",
       "      <td>0.0</td>\n",
       "      <td>0.0</td>\n",
       "      <td>Erraiam Flatic</td>\n",
       "      <td>True</td>\n",
       "    </tr>\n",
       "  </tbody>\n",
       "</table>\n",
       "</div>"
      ],
      "text/plain": [
       "  PassengerId HomePlanet CryoSleep  Cabin    Destination   Age    VIP  \\\n",
       "0     0001_01     Europa     False  B/0/P    TRAPPIST-1e  39.0  False   \n",
       "1     0002_01      Earth     False  F/0/S    TRAPPIST-1e  24.0  False   \n",
       "2     0003_01     Europa     False  A/0/S    TRAPPIST-1e  58.0   True   \n",
       "3     0003_02     Europa     False  A/0/S    TRAPPIST-1e  33.0  False   \n",
       "4     0004_01      Earth     False  F/1/S    TRAPPIST-1e  16.0  False   \n",
       "5     0005_01      Earth     False  F/0/P  PSO J318.5-22  44.0  False   \n",
       "6     0006_01      Earth     False  F/2/S    TRAPPIST-1e  26.0  False   \n",
       "7     0006_02      Earth      True  G/0/S    TRAPPIST-1e  28.0  False   \n",
       "8     0007_01      Earth     False  F/3/S    TRAPPIST-1e  35.0  False   \n",
       "9     0008_01     Europa      True  B/1/P    55 Cancri e  14.0  False   \n",
       "\n",
       "   RoomService  FoodCourt  ShoppingMall     Spa  VRDeck                Name  \\\n",
       "0          0.0        0.0           0.0     0.0     0.0     Maham Ofracculy   \n",
       "1        109.0        9.0          25.0   549.0    44.0        Juanna Vines   \n",
       "2         43.0     3576.0           0.0  6715.0    49.0       Altark Susent   \n",
       "3          0.0     1283.0         371.0  3329.0   193.0        Solam Susent   \n",
       "4        303.0       70.0         151.0   565.0     2.0   Willy Santantines   \n",
       "5          0.0      483.0           0.0   291.0     0.0   Sandie Hinetthews   \n",
       "6         42.0     1539.0           3.0     0.0     0.0  Billex Jacostaffey   \n",
       "7          0.0        0.0           0.0     0.0     NaN  Candra Jacostaffey   \n",
       "8          0.0      785.0          17.0   216.0     0.0       Andona Beston   \n",
       "9          0.0        0.0           0.0     0.0     0.0      Erraiam Flatic   \n",
       "\n",
       "   Transported  \n",
       "0        False  \n",
       "1         True  \n",
       "2        False  \n",
       "3        False  \n",
       "4         True  \n",
       "5         True  \n",
       "6         True  \n",
       "7         True  \n",
       "8         True  \n",
       "9         True  "
      ]
     },
     "execution_count": 3,
     "metadata": {},
     "output_type": "execute_result"
    }
   ],
   "source": [
    "train.head(10)"
   ]
  },
  {
   "cell_type": "code",
   "execution_count": 4,
   "id": "074ee9d1",
   "metadata": {},
   "outputs": [
    {
     "name": "stdout",
     "output_type": "stream",
     "text": [
      "<class 'pandas.core.frame.DataFrame'>\n",
      "RangeIndex: 8693 entries, 0 to 8692\n",
      "Data columns (total 14 columns):\n",
      " #   Column        Non-Null Count  Dtype  \n",
      "---  ------        --------------  -----  \n",
      " 0   PassengerId   8693 non-null   object \n",
      " 1   HomePlanet    8492 non-null   object \n",
      " 2   CryoSleep     8476 non-null   object \n",
      " 3   Cabin         8494 non-null   object \n",
      " 4   Destination   8511 non-null   object \n",
      " 5   Age           8514 non-null   float64\n",
      " 6   VIP           8490 non-null   object \n",
      " 7   RoomService   8512 non-null   float64\n",
      " 8   FoodCourt     8510 non-null   float64\n",
      " 9   ShoppingMall  8485 non-null   float64\n",
      " 10  Spa           8510 non-null   float64\n",
      " 11  VRDeck        8505 non-null   float64\n",
      " 12  Name          8493 non-null   object \n",
      " 13  Transported   8693 non-null   bool   \n",
      "dtypes: bool(1), float64(6), object(7)\n",
      "memory usage: 891.5+ KB\n"
     ]
    }
   ],
   "source": [
    "train.info()"
   ]
  },
  {
   "cell_type": "code",
   "execution_count": 5,
   "id": "3404bfa8",
   "metadata": {},
   "outputs": [
    {
     "data": {
      "text/html": [
       "<div>\n",
       "<style scoped>\n",
       "    .dataframe tbody tr th:only-of-type {\n",
       "        vertical-align: middle;\n",
       "    }\n",
       "\n",
       "    .dataframe tbody tr th {\n",
       "        vertical-align: top;\n",
       "    }\n",
       "\n",
       "    .dataframe thead th {\n",
       "        text-align: right;\n",
       "    }\n",
       "</style>\n",
       "<table border=\"1\" class=\"dataframe\">\n",
       "  <thead>\n",
       "    <tr style=\"text-align: right;\">\n",
       "      <th></th>\n",
       "      <th>Age</th>\n",
       "      <th>RoomService</th>\n",
       "      <th>FoodCourt</th>\n",
       "      <th>ShoppingMall</th>\n",
       "      <th>Spa</th>\n",
       "      <th>VRDeck</th>\n",
       "    </tr>\n",
       "  </thead>\n",
       "  <tbody>\n",
       "    <tr>\n",
       "      <th>count</th>\n",
       "      <td>8514.000000</td>\n",
       "      <td>8512.000000</td>\n",
       "      <td>8510.000000</td>\n",
       "      <td>8485.000000</td>\n",
       "      <td>8510.000000</td>\n",
       "      <td>8505.000000</td>\n",
       "    </tr>\n",
       "    <tr>\n",
       "      <th>mean</th>\n",
       "      <td>28.827930</td>\n",
       "      <td>224.687617</td>\n",
       "      <td>458.077203</td>\n",
       "      <td>173.729169</td>\n",
       "      <td>311.138778</td>\n",
       "      <td>304.854791</td>\n",
       "    </tr>\n",
       "    <tr>\n",
       "      <th>std</th>\n",
       "      <td>14.489021</td>\n",
       "      <td>666.717663</td>\n",
       "      <td>1611.489240</td>\n",
       "      <td>604.696458</td>\n",
       "      <td>1136.705535</td>\n",
       "      <td>1145.717189</td>\n",
       "    </tr>\n",
       "    <tr>\n",
       "      <th>min</th>\n",
       "      <td>0.000000</td>\n",
       "      <td>0.000000</td>\n",
       "      <td>0.000000</td>\n",
       "      <td>0.000000</td>\n",
       "      <td>0.000000</td>\n",
       "      <td>0.000000</td>\n",
       "    </tr>\n",
       "    <tr>\n",
       "      <th>25%</th>\n",
       "      <td>19.000000</td>\n",
       "      <td>0.000000</td>\n",
       "      <td>0.000000</td>\n",
       "      <td>0.000000</td>\n",
       "      <td>0.000000</td>\n",
       "      <td>0.000000</td>\n",
       "    </tr>\n",
       "    <tr>\n",
       "      <th>50%</th>\n",
       "      <td>27.000000</td>\n",
       "      <td>0.000000</td>\n",
       "      <td>0.000000</td>\n",
       "      <td>0.000000</td>\n",
       "      <td>0.000000</td>\n",
       "      <td>0.000000</td>\n",
       "    </tr>\n",
       "    <tr>\n",
       "      <th>75%</th>\n",
       "      <td>38.000000</td>\n",
       "      <td>47.000000</td>\n",
       "      <td>76.000000</td>\n",
       "      <td>27.000000</td>\n",
       "      <td>59.000000</td>\n",
       "      <td>46.000000</td>\n",
       "    </tr>\n",
       "    <tr>\n",
       "      <th>max</th>\n",
       "      <td>79.000000</td>\n",
       "      <td>14327.000000</td>\n",
       "      <td>29813.000000</td>\n",
       "      <td>23492.000000</td>\n",
       "      <td>22408.000000</td>\n",
       "      <td>24133.000000</td>\n",
       "    </tr>\n",
       "  </tbody>\n",
       "</table>\n",
       "</div>"
      ],
      "text/plain": [
       "               Age   RoomService     FoodCourt  ShoppingMall           Spa  \\\n",
       "count  8514.000000   8512.000000   8510.000000   8485.000000   8510.000000   \n",
       "mean     28.827930    224.687617    458.077203    173.729169    311.138778   \n",
       "std      14.489021    666.717663   1611.489240    604.696458   1136.705535   \n",
       "min       0.000000      0.000000      0.000000      0.000000      0.000000   \n",
       "25%      19.000000      0.000000      0.000000      0.000000      0.000000   \n",
       "50%      27.000000      0.000000      0.000000      0.000000      0.000000   \n",
       "75%      38.000000     47.000000     76.000000     27.000000     59.000000   \n",
       "max      79.000000  14327.000000  29813.000000  23492.000000  22408.000000   \n",
       "\n",
       "             VRDeck  \n",
       "count   8505.000000  \n",
       "mean     304.854791  \n",
       "std     1145.717189  \n",
       "min        0.000000  \n",
       "25%        0.000000  \n",
       "50%        0.000000  \n",
       "75%       46.000000  \n",
       "max    24133.000000  "
      ]
     },
     "execution_count": 5,
     "metadata": {},
     "output_type": "execute_result"
    }
   ],
   "source": [
    "train.describe()"
   ]
  },
  {
   "cell_type": "code",
   "execution_count": 6,
   "id": "e579cbc5",
   "metadata": {},
   "outputs": [
    {
     "data": {
      "text/plain": [
       "PassengerId       0\n",
       "HomePlanet      201\n",
       "CryoSleep       217\n",
       "Cabin           199\n",
       "Destination     182\n",
       "Age             179\n",
       "VIP             203\n",
       "RoomService     181\n",
       "FoodCourt       183\n",
       "ShoppingMall    208\n",
       "Spa             183\n",
       "VRDeck          188\n",
       "Name            200\n",
       "Transported       0\n",
       "dtype: int64"
      ]
     },
     "execution_count": 6,
     "metadata": {},
     "output_type": "execute_result"
    }
   ],
   "source": [
    "train.isna().sum()"
   ]
  },
  {
   "cell_type": "code",
   "execution_count": 7,
   "id": "d364bd34",
   "metadata": {},
   "outputs": [
    {
     "data": {
      "image/png": "[encoded data removed]",
      "text/plain": [
       "<Figure size 640x480 with 1 Axes>"
      ]
     },
     "metadata": {},
     "output_type": "display_data"
    }
   ],
   "source": [
    "sns.boxplot(x='Age', data=train)\n",
    "plt.title('Box Plot of Age')\n",
    "plt.show()"
   ]
  },
  {
   "cell_type": "code",
   "execution_count": 8,
   "id": "9a1788d4",
   "metadata": {},
   "outputs": [
    {
     "data": {
      "image/png": "[encoded data removed]",
      "text/plain": [
       "<Figure size 640x480 with 1 Axes>"
      ]
     },
     "metadata": {},
     "output_type": "display_data"
    }
   ],
   "source": [
    "plt.hist(train['Age'], bins=20, color='skyblue')\n",
    "plt.xlabel('Age')\n",
    "plt.ylabel('Frequency')\n",
    "plt.title('Histogram of Age')\n",
    "plt.show()"
   ]
  },
  {
   "cell_type": "code",
   "execution_count": 9,
   "id": "69282abc",
   "metadata": {},
   "outputs": [
    {
     "data": {
      "image/png": "[encoded data removed]",
      "text/plain": [
       "<Figure size 640x480 with 1 Axes>"
      ]
     },
     "metadata": {},
     "output_type": "display_data"
    }
   ],
   "source": [
    "sns.countplot(x='HomePlanet', data=train, palette='Set3')\n",
    "plt.xticks(rotation=90)\n",
    "plt.xlabel('HomePlanet')\n",
    "plt.ylabel('Count')\n",
    "plt.title('Count Plot of HomePlanet')\n",
    "plt.show()"
   ]
  },
  {
   "cell_type": "code",
   "execution_count": 10,
   "id": "e7a1d659",
   "metadata": {},
   "outputs": [
    {
     "data": {
      "image/png": "[encoded data removed]",
      "text/plain": [
       "<Figure size 640x480 with 1 Axes>"
      ]
     },
     "metadata": {},
     "output_type": "display_data"
    }
   ],
   "source": [
    "sns.countplot(x='CryoSleep', data=train, palette='Set3')\n",
    "plt.xticks(rotation=90)\n",
    "plt.xlabel('CryoSleep')\n",
    "plt.ylabel('Count')\n",
    "plt.title('Count Plot of CryoSleep')\n",
    "plt.show()"
   ]
  },
  {
   "cell_type": "code",
   "execution_count": 11,
   "id": "96d279ed",
   "metadata": {},
   "outputs": [
    {
     "data": {
      "image/png": "[encoded data removed]",
      "text/plain": [
       "<Figure size 640x480 with 1 Axes>"
      ]
     },
     "metadata": {},
     "output_type": "display_data"
    }
   ],
   "source": [
    "sns.countplot(x='VIP', data=train, palette='Set3')\n",
    "plt.xticks(rotation=90)\n",
    "plt.xlabel('VIP')\n",
    "plt.ylabel('Count')\n",
    "plt.title('Count Plot of VIP')\n",
    "plt.show()"
   ]
  },
  {
   "cell_type": "code",
   "execution_count": 12,
   "id": "72f48786",
   "metadata": {},
   "outputs": [
    {
     "data": {
      "image/png": "[encoded data removed]",
      "text/plain": [
       "<Figure size 1000x800 with 2 Axes>"
      ]
     },
     "metadata": {},
     "output_type": "display_data"
    }
   ],
   "source": [
    "\n",
    "# Encode categorical columns (example using one-hot encoding for 'HomePlanet')\n",
    "train_encoded = pd.get_dummies(train, columns=['HomePlanet'], drop_first=True)\n",
    "\n",
    "# Exclude non-numeric columns and 'Transported' if needed\n",
    "numerical_columns = train_encoded.select_dtypes(include=['int64', 'float64']).columns\n",
    "correlation_matrix = train_encoded[numerical_columns].corr()\n",
    "\n",
    "# Create a correlation heatmap\n",
    "plt.figure(figsize=(10, 8))\n",
    "sns.heatmap(correlation_matrix, annot=True, cmap='coolwarm')\n",
    "plt.title('Correlation Heatmap')\n",
    "plt.show()\n"
   ]
  },
  {
   "cell_type": "code",
   "execution_count": 13,
   "id": "3825ca86",
   "metadata": {},
   "outputs": [
    {
     "data": {
      "image/png": "[encoded data removed]",
      "text/plain": [
       "<Figure size 1000x600 with 1 Axes>"
      ]
     },
     "metadata": {},
     "output_type": "display_data"
    }
   ],
   "source": [
    "\n",
    "# Create a count plot for 'HomePlanet' vs. 'Transported' with percentage annotations\n",
    "plt.figure(figsize=(10, 6))\n",
    "ax = sns.countplot(x='HomePlanet', hue='Transported', data=train)\n",
    "plt.xticks(rotation=90)  # Rotate x-axis labels for better readability\n",
    "plt.xlabel('HomePlanet')\n",
    "plt.ylabel('Count')\n",
    "plt.title('Transported Passengers by HomePlanet')\n",
    "plt.legend(title='Transported', labels=['False', 'True'])\n",
    "\n",
    "# Add percentage annotations to the bars\n",
    "total_height = len(train)\n",
    "for p in ax.patches:\n",
    "    percentage = '{:.1f}%'.format(100 * p.get_height() / total_height)\n",
    "    x = p.get_x() + p.get_width() / 2 - 0.15\n",
    "    y = p.get_height() + 20\n",
    "    ax.annotate(percentage, (x, y))\n",
    "\n",
    "plt.show()"
   ]
  },
  {
   "cell_type": "code",
   "execution_count": 14,
   "id": "d9b3744d",
   "metadata": {},
   "outputs": [
    {
     "data": {
      "image/png": "[encoded data removed]",
      "text/plain": [
       "<Figure size 1000x600 with 1 Axes>"
      ]
     },
     "metadata": {},
     "output_type": "display_data"
    }
   ],
   "source": [
    "\n",
    "# Create a count plot for 'CryoSleep' vs. 'Transported' with percentage annotations\n",
    "plt.figure(figsize=(10, 6))\n",
    "ax = sns.countplot(x='CryoSleep', hue='Transported', data=train)\n",
    "plt.xticks(rotation=90)  # Rotate x-axis labels for better readability\n",
    "plt.xlabel('CryoSleep')\n",
    "plt.ylabel('Count')\n",
    "plt.title('Transported Passengers by CryoSleep')\n",
    "plt.legend(title='Transported', labels=['False', 'True'])\n",
    "\n",
    "# Add percentage annotations to the bars\n",
    "total_height = len(train)\n",
    "for p in ax.patches:\n",
    "    percentage = '{:.1f}%'.format(100 * p.get_height() / total_height)\n",
    "    x = p.get_x() + p.get_width() / 2 - 0.15\n",
    "    y = p.get_height() + 20\n",
    "    ax.annotate(percentage, (x, y))\n",
    "\n",
    "plt.show()"
   ]
  },
  {
   "cell_type": "code",
   "execution_count": 15,
   "id": "b33b3532",
   "metadata": {},
   "outputs": [
    {
     "data": {
      "image/png": "[encoded data removed]",
      "text/plain": [
       "<Figure size 1000x600 with 1 Axes>"
      ]
     },
     "metadata": {},
     "output_type": "display_data"
    }
   ],
   "source": [
    "\n",
    "# Split the 'Cabin' column into 'Deck', 'Num', and 'Side'\n",
    "train[['Deck', 'Num', 'Side']] = train['Cabin'].str.split('/', expand=True)\n",
    "\n",
    "# Create a count plot for 'Deck' vs. 'Transported' with percentage annotations\n",
    "plt.figure(figsize=(10, 6))\n",
    "ax = sns.countplot(x='Deck', hue='Transported', data=train)\n",
    "plt.xticks(rotation=90)  # Rotate x-axis labels for better readability\n",
    "plt.xlabel('Deck')\n",
    "plt.ylabel('Count')\n",
    "plt.title('Transported Passengers by Deck')\n",
    "plt.legend(title='Transported', labels=['False', 'True'])\n",
    "\n",
    "# Add percentage annotations to the bars\n",
    "total_height = len(train)\n",
    "for p in ax.patches:\n",
    "    percentage = '{:.1f}%'.format(100 * p.get_height() / total_height)\n",
    "    x = p.get_x() + p.get_width() / 2 - 0.15\n",
    "    y = p.get_height() + 20\n",
    "    ax.annotate(percentage, (x, y))\n",
    "\n",
    "plt.show()"
   ]
  },
  {
   "cell_type": "code",
   "execution_count": 16,
   "id": "5ac86835",
   "metadata": {},
   "outputs": [
    {
     "data": {
      "image/png": "[encoded data removed]",
      "text/plain": [
       "<Figure size 1000x600 with 1 Axes>"
      ]
     },
     "metadata": {},
     "output_type": "display_data"
    }
   ],
   "source": [
    "\n",
    "# Split the 'Cabin' column into 'Deck', 'Num', and 'Side'\n",
    "train[['Deck', 'Num', 'Side']] = train['Cabin'].str.split('/', expand=True)\n",
    "\n",
    "# Create a count plot for 'Deck' vs. 'Transported' with percentage annotations\n",
    "plt.figure(figsize=(10, 6))\n",
    "ax = sns.countplot(x='Side', hue='Transported', data=train)\n",
    "plt.xticks(rotation=90)  # Rotate x-axis labels for better readability\n",
    "plt.xlabel('Side')\n",
    "plt.ylabel('Count')\n",
    "plt.title('Transported Passengers by Side')\n",
    "plt.legend(title='Transported', labels=['False', 'True'])\n",
    "\n",
    "# Add percentage annotations to the bars\n",
    "total_height = len(train)\n",
    "for p in ax.patches:\n",
    "    percentage = '{:.1f}%'.format(100 * p.get_height() / total_height)\n",
    "    x = p.get_x() + p.get_width() / 2 - 0.15\n",
    "    y = p.get_height() + 20\n",
    "    ax.annotate(percentage, (x, y))\n",
    "\n",
    "plt.show()"
   ]
  },
  {
   "cell_type": "code",
   "execution_count": 17,
   "id": "e530d2a4",
   "metadata": {},
   "outputs": [
    {
     "data": {
      "image/png": "[encoded data removed]",
      "text/plain": [
       "<Figure size 1000x600 with 1 Axes>"
      ]
     },
     "metadata": {},
     "output_type": "display_data"
    }
   ],
   "source": [
    "\n",
    "# Create a count plot for 'Destination' vs. 'Transported' with percentage annotations\n",
    "plt.figure(figsize=(10, 6))\n",
    "ax = sns.countplot(x='Destination', hue='Transported', data=train)\n",
    "plt.xticks(rotation=90)  # Rotate x-axis labels for better readability\n",
    "plt.xlabel('Destination')\n",
    "plt.ylabel('Count')\n",
    "plt.title('Transported Passengers by Destination')\n",
    "plt.legend(title='Transported', labels=['False', 'True'])\n",
    "\n",
    "# Add percentage annotations to the bars\n",
    "total_height = len(train)\n",
    "for p in ax.patches:\n",
    "    percentage = '{:.1f}%'.format(100 * p.get_height() / total_height)\n",
    "    x = p.get_x() + p.get_width() / 2 - 0.15\n",
    "    y = p.get_height() + 20\n",
    "    ax.annotate(percentage, (x, y))\n",
    "\n",
    "plt.show()"
   ]
  },
  {
   "cell_type": "code",
   "execution_count": 18,
   "id": "9a04dd57",
   "metadata": {},
   "outputs": [
    {
     "data": {
      "image/png": "[encoded data removed]",
      "text/plain": [
       "<Figure size 1000x600 with 1 Axes>"
      ]
     },
     "metadata": {},
     "output_type": "display_data"
    }
   ],
   "source": [
    "\n",
    "# Create a count plot for 'VIP' vs. 'Transported' with percentage annotations\n",
    "plt.figure(figsize=(10, 6))\n",
    "ax = sns.countplot(x='VIP', hue='Transported', data=train)\n",
    "plt.xticks(rotation=90)  # Rotate x-axis labels for better readability\n",
    "plt.xlabel('VIP')\n",
    "plt.ylabel('Count')\n",
    "plt.title('Transported Passengers by VIP')\n",
    "plt.legend(title='Transported', labels=['False', 'True'])\n",
    "\n",
    "# Add percentage annotations to the bars\n",
    "total_height = len(train)\n",
    "for p in ax.patches:\n",
    "    percentage = '{:.1f}%'.format(100 * p.get_height() / total_height)\n",
    "    x = p.get_x() + p.get_width() / 2 - 0.15\n",
    "    y = p.get_height() + 20\n",
    "    ax.annotate(percentage, (x, y))\n",
    "\n",
    "plt.show()"
   ]
  },
  {
   "cell_type": "code",
   "execution_count": 19,
   "id": "eeadf3ff",
   "metadata": {},
   "outputs": [
    {
     "data": {
      "image/png": "[encoded data removed]",
      "text/plain": [
       "<Figure size 1200x800 with 2 Axes>"
      ]
     },
     "metadata": {},
     "output_type": "display_data"
    }
   ],
   "source": [
    "# Create a pivot table to count passengers from each HomePlanet to each Destination\n",
    "heatmap_data = train.pivot_table(index='HomePlanet', columns='Destination', values='Transported', aggfunc='count', fill_value=0)\n",
    "\n",
    "# Create a heatmap\n",
    "plt.figure(figsize=(12, 8))\n",
    "sns.heatmap(heatmap_data, annot=True, fmt='d', cmap='coolwarm')\n",
    "plt.xlabel('Destination Planet')\n",
    "plt.ylabel('HomePlanet')\n",
    "plt.title('Passengers from HomePlanet to Destination Planet')\n",
    "plt.show()\n"
   ]
  },
  {
   "cell_type": "code",
   "execution_count": 20,
   "id": "8acf0907",
   "metadata": {},
   "outputs": [],
   "source": [
    "# Split 'PassengerId' into 'Group' and 'NoOfPassengers' columns\n",
    "train[['Group', 'NoOfPassengers']] = train['PassengerId'].str.split('_', expand=True)"
   ]
  },
  {
   "cell_type": "code",
   "execution_count": 21,
   "id": "52c0231f",
   "metadata": {},
   "outputs": [],
   "source": [
    "# Split 'PassengerId' into 'Group' and 'NoOfPassengers' columns\n",
    "test[['Group', 'NoOfPassengers']] = test['PassengerId'].str.split('_', expand=True)"
   ]
  },
  {
   "cell_type": "code",
   "execution_count": 22,
   "id": "81fe3aa8",
   "metadata": {},
   "outputs": [
    {
     "name": "stdout",
     "output_type": "stream",
     "text": [
      "  Group  NoOfPassengers               CabinNumbers\n",
      "0  4498               8                  [G/734/S]\n",
      "1  8168               8       [F/1561/S, G/1316/S]\n",
      "2  8728               8  [F/1798/P, G/1416/P, nan]\n",
      "3  8796               8       [G/1418/S, F/1704/S]\n",
      "4  8956               8       [F/1838/P, G/1453/P]\n",
      "5  4256               8         [F/880/P, G/698/P]\n",
      "6  0984               8         [G/150/S, F/182/S]\n",
      "7  9081               8  [G/1476/P, F/1858/P, nan]\n",
      "8  8988               8       [G/1448/S, F/1741/S]\n",
      "9  5756               8            [F/1194/P, nan]\n"
     ]
    }
   ],
   "source": [
    "top_10_groups = train['Group'].value_counts().head(10).reset_index()\n",
    "top_10_groups.columns = ['Group', 'NoOfPassengers']\n",
    "\n",
    "# Get cabin numbers for passengers in the top 10 groups\n",
    "top_10_groups['CabinNumbers'] = top_10_groups['Group'].apply(lambda group: train[train['Group'] == group]['Cabin'].unique())\n",
    "\n",
    "print(top_10_groups)"
   ]
  },
  {
   "cell_type": "code",
   "execution_count": 23,
   "id": "0fb60499",
   "metadata": {},
   "outputs": [],
   "source": [
    "# # Filter rows with NaN cabin numbers\n",
    "# nan_cabin_groups = train[train['Cabin'].isna()]\n",
    "\n",
    "# # Find the number of passengers in each group\n",
    "# nan_cabin_groups = nan_cabin_groups['Group'].value_counts().reset_index()\n",
    "# nan_cabin_groups.columns = ['Group', 'NoOfPassengers']\n",
    "\n",
    "# # Initialize an empty list to store cabin numbers\n",
    "# cabin_numbers = []\n",
    "\n",
    "# # Iterate through each group to find unique cabin numbers\n",
    "# for group in nan_cabin_groups['Group']:\n",
    "#     cabin_numbers_group = train[train['Group'] == group]['Cabin'].unique()\n",
    "#     # Convert cabin numbers to strings and join them\n",
    "#     cabin_numbers.append(', '.join(map(str, cabin_numbers_group)))\n",
    "\n",
    "# # Add the cabin numbers to the DataFrame\n",
    "# nan_cabin_groups['CabinNumbers'] = cabin_numbers\n",
    "\n",
    "# print(nan_cabin_groups)\n"
   ]
  },
  {
   "cell_type": "code",
   "execution_count": 24,
   "id": "d247a106",
   "metadata": {},
   "outputs": [
    {
     "name": "stdout",
     "output_type": "stream",
     "text": [
      "     PassengerId     Cabin\n",
      "8162     8728_01  F/1798/P\n",
      "8163     8728_02  G/1416/P\n",
      "8164     8728_03  F/1798/P\n",
      "8165     8728_04  F/1798/P\n",
      "8166     8728_05  G/1416/P\n",
      "8167     8728_06  G/1416/P\n",
      "8168     8728_07       NaN\n",
      "8169     8728_08  G/1416/P\n"
     ]
    }
   ],
   "source": [
    "group_details = train[train['Group'] == '8728'][['PassengerId', 'Cabin']]\n",
    "print(group_details)"
   ]
  },
  {
   "cell_type": "code",
   "execution_count": 29,
   "id": "40a985a5",
   "metadata": {},
   "outputs": [
    {
     "name": "stdout",
     "output_type": "stream",
     "text": [
      "  PassengerId HomePlanet CryoSleep  Cabin  Destination   Age    VIP  \\\n",
      "0     0001_01     Europa     False  B/0/P  TRAPPIST-1e  39.0  False   \n",
      "1     0002_01      Earth     False  F/0/S  TRAPPIST-1e  24.0  False   \n",
      "2     0003_01     Europa     False  A/0/S  TRAPPIST-1e  58.0   True   \n",
      "3     0003_02     Europa     False  A/0/S  TRAPPIST-1e  33.0  False   \n",
      "4     0004_01      Earth     False  F/1/S  TRAPPIST-1e  16.0  False   \n",
      "\n",
      "   RoomService  FoodCourt  ShoppingMall     Spa  VRDeck               Name  \\\n",
      "0          0.0        0.0           0.0     0.0     0.0    Maham Ofracculy   \n",
      "1        109.0        9.0          25.0   549.0    44.0       Juanna Vines   \n",
      "2         43.0     3576.0           0.0  6715.0    49.0      Altark Susent   \n",
      "3          0.0     1283.0         371.0  3329.0   193.0       Solam Susent   \n",
      "4        303.0       70.0         151.0   565.0     2.0  Willy Santantines   \n",
      "\n",
      "   Transported Deck Num Side Group NoOfPassengers  \n",
      "0        False    B   0    P  0001             01  \n",
      "1         True    F   0    S  0002             01  \n",
      "2        False    A   0    S  0003             01  \n",
      "3        False    A   0    S  0003             02  \n",
      "4         True    F   1    S  0004             01  \n"
     ]
    }
   ],
   "source": [
    "# Split the 'Cabin' column into 'Deck', 'Num', and 'Side' columns\n",
    "train[['Deck', 'Num', 'Side']] = train['Cabin'].str.split('/', expand=True)\n",
    "\n",
    "# Display the updated DataFrame with the new columns\n",
    "print(train.head())"
   ]
  },
  {
   "cell_type": "code",
   "execution_count": 30,
   "id": "3ee51024",
   "metadata": {},
   "outputs": [
    {
     "name": "stdout",
     "output_type": "stream",
     "text": [
      "  PassengerId HomePlanet CryoSleep  Cabin  Destination   Age    VIP  \\\n",
      "0     0013_01      Earth      True  G/3/S  TRAPPIST-1e  27.0  False   \n",
      "1     0018_01      Earth     False  F/4/S  TRAPPIST-1e  19.0  False   \n",
      "2     0019_01     Europa      True  C/0/S  55 Cancri e  31.0  False   \n",
      "3     0021_01     Europa     False  C/1/S  TRAPPIST-1e  38.0  False   \n",
      "4     0023_01      Earth     False  F/5/S  TRAPPIST-1e  20.0  False   \n",
      "\n",
      "   RoomService  FoodCourt  ShoppingMall     Spa  VRDeck              Name  \\\n",
      "0          0.0        0.0           0.0     0.0     0.0   Nelly Carsoning   \n",
      "1          0.0        9.0           0.0  2823.0     0.0    Lerome Peckers   \n",
      "2          0.0        0.0           0.0     0.0     0.0   Sabih Unhearfus   \n",
      "3          0.0     6652.0           0.0   181.0   585.0  Meratz Caltilter   \n",
      "4         10.0        0.0         635.0     0.0     0.0   Brence Harperez   \n",
      "\n",
      "  Group NoOfPassengers Deck Num Side  \n",
      "0  0013             01    G   3    S  \n",
      "1  0018             01    F   4    S  \n",
      "2  0019             01    C   0    S  \n",
      "3  0021             01    C   1    S  \n",
      "4  0023             01    F   5    S  \n"
     ]
    }
   ],
   "source": [
    "# Split the 'Cabin' column into 'Deck', 'Num', and 'Side' columns\n",
    "test[['Deck', 'Num', 'Side']] = test['Cabin'].str.split('/', expand=True)\n",
    "\n",
    "# Display the updated DataFrame with the new columns\n",
    "print(test.head())"
   ]
  },
  {
   "cell_type": "code",
   "execution_count": 31,
   "id": "71605874",
   "metadata": {},
   "outputs": [
    {
     "data": {
      "text/plain": [
       "PassengerId         0\n",
       "HomePlanet        201\n",
       "CryoSleep         217\n",
       "Cabin             199\n",
       "Destination       182\n",
       "Age               179\n",
       "VIP               203\n",
       "RoomService       181\n",
       "FoodCourt         183\n",
       "ShoppingMall      208\n",
       "Spa               183\n",
       "VRDeck            188\n",
       "Name              200\n",
       "Transported         0\n",
       "Deck              199\n",
       "Num               199\n",
       "Side              199\n",
       "Group               0\n",
       "NoOfPassengers      0\n",
       "dtype: int64"
      ]
     },
     "execution_count": 31,
     "metadata": {},
     "output_type": "execute_result"
    }
   ],
   "source": [
    "train.isna().sum()"
   ]
  },
  {
   "cell_type": "code",
   "execution_count": 32,
   "id": "3fdaa744",
   "metadata": {},
   "outputs": [
    {
     "name": "stdout",
     "output_type": "stream",
     "text": [
      "     PassengerId HomePlanet CryoSleep     Cabin  Destination   Age    VIP  \\\n",
      "59       0064_02        NaN      True     E/3/S  TRAPPIST-1e  33.0  False   \n",
      "113      0119_01        NaN     False     A/0/P  TRAPPIST-1e  39.0  False   \n",
      "186      0210_01        NaN      True     D/6/P  55 Cancri e  24.0  False   \n",
      "225      0242_01        NaN     False    F/46/S  TRAPPIST-1e  18.0  False   \n",
      "234      0251_01        NaN      True    C/11/S  55 Cancri e  54.0  False   \n",
      "...          ...        ...       ...       ...          ...   ...    ...   \n",
      "8515     9084_01        NaN     False   E/582/P  TRAPPIST-1e  25.0  False   \n",
      "8613     9194_01        NaN     False   E/603/S  55 Cancri e  53.0  False   \n",
      "8666     9248_01        NaN     False  F/1792/S  55 Cancri e  38.0    NaN   \n",
      "8674     9257_01        NaN     False  F/1892/P  TRAPPIST-1e  13.0  False   \n",
      "8684     9274_01        NaN      True  G/1508/P  TRAPPIST-1e  23.0  False   \n",
      "\n",
      "      RoomService  FoodCourt  ShoppingMall    Spa  VRDeck             Name  \\\n",
      "59            0.0        0.0           NaN    0.0     0.0      Colatz Keen   \n",
      "113           0.0     2344.0           0.0   65.0  6898.0     Batan Coning   \n",
      "186           0.0        0.0           NaN    0.0     0.0   Arraid Inicont   \n",
      "225         313.0        1.0         691.0  283.0     0.0       Almone Sté   \n",
      "234           0.0        0.0           0.0    0.0     0.0    Diphah Amsive   \n",
      "...           ...        ...           ...    ...     ...              ...   \n",
      "8515       1258.0        0.0          22.0   19.0     0.0        Jurs Mone   \n",
      "8613          0.0     4017.0           0.0   13.0  3147.0              NaN   \n",
      "8666         28.0     1208.0         973.0  207.0     0.0       Gian Perle   \n",
      "8674         39.0        0.0        1085.0   24.0     0.0       Ties Apple   \n",
      "8684          0.0        0.0           0.0    0.0     0.0  Chelsa Bullisey   \n",
      "\n",
      "      Transported Deck   Num Side Group NoOfPassengers  \n",
      "59           True    E     3    S  0064             02  \n",
      "113         False    A     0    P  0119             01  \n",
      "186          True    D     6    P  0210             01  \n",
      "225         False    F    46    S  0242             01  \n",
      "234          True    C    11    S  0251             01  \n",
      "...           ...  ...   ...  ...   ...            ...  \n",
      "8515        False    E   582    P  9084             01  \n",
      "8613        False    E   603    S  9194             01  \n",
      "8666         True    F  1792    S  9248             01  \n",
      "8674        False    F  1892    P  9257             01  \n",
      "8684         True    G  1508    P  9274             01  \n",
      "\n",
      "[201 rows x 19 columns]\n"
     ]
    }
   ],
   "source": [
    "# Select rows where 'HomePlanet' column has NaN values\n",
    "nan_homeplanet_rows = train[train['HomePlanet'].isna()]\n",
    "\n",
    "# Display these rows in a DataFrame\n",
    "nan_homeplanet_df = pd.DataFrame(nan_homeplanet_rows)\n",
    "\n",
    "# Print the DataFrame\n",
    "print(nan_homeplanet_df)"
   ]
  },
  {
   "cell_type": "code",
   "execution_count": 33,
   "id": "db288ab0",
   "metadata": {},
   "outputs": [
    {
     "name": "stdout",
     "output_type": "stream",
     "text": [
      "     PassengerId HomePlanet CryoSleep     Cabin  Destination   Age    VIP  \\\n",
      "276      0616_01        NaN     False    E/40/S  TRAPPIST-1e  31.0  False   \n",
      "340      0730_01        NaN     False   F/135/S  TRAPPIST-1e  44.0  False   \n",
      "450      0936_01        NaN     False   F/171/S  TRAPPIST-1e  20.0  False   \n",
      "464      0967_01        NaN     False   F/180/S  TRAPPIST-1e  19.0  False   \n",
      "481      1021_01        NaN     False   F/192/S  TRAPPIST-1e  23.0  False   \n",
      "...          ...        ...       ...       ...          ...   ...    ...   \n",
      "3957     8621_01        NaN     False   E/552/P  TRAPPIST-1e  19.0  False   \n",
      "3980     8678_01        NaN      True  G/1399/S  55 Cancri e   9.0  False   \n",
      "4032     8775_01        NaN      True   D/275/P  TRAPPIST-1e  40.0  False   \n",
      "4159     9025_01        NaN     False  G/1454/S  TRAPPIST-1e  42.0  False   \n",
      "4213     9146_01        NaN     False  F/1874/P  TRAPPIST-1e  52.0  False   \n",
      "\n",
      "      RoomService  FoodCourt  ShoppingMall     Spa  VRDeck               Name  \\\n",
      "276           0.0      428.0           NaN  1154.0  1025.0    Arkaban Spriney   \n",
      "340          14.0        0.0        1817.0     2.0   171.0       Skunch Ponie   \n",
      "450           0.0        4.0           0.0   732.0     1.0  Anniey Currisones   \n",
      "464           1.0        0.0           0.0     0.0   632.0        Andan Fryan   \n",
      "481           0.0      458.0         151.0   256.0     0.0         Mara Ments   \n",
      "...           ...        ...           ...     ...     ...                ...   \n",
      "3957          4.0        0.0        1604.0     0.0     0.0  Vanley Simmonders   \n",
      "3980          0.0        0.0           0.0     0.0     0.0      Eilan Kellson   \n",
      "4032          0.0        0.0           0.0     0.0     0.0   Raston Maltorted   \n",
      "4159          0.0        0.0          28.0   726.0     0.0     Ale Whitersone   \n",
      "4213        994.0        0.0         173.0     0.0    24.0        Rionk Sache   \n",
      "\n",
      "     Group NoOfPassengers Deck   Num Side  \n",
      "276   0616             01    E    40    S  \n",
      "340   0730             01    F   135    S  \n",
      "450   0936             01    F   171    S  \n",
      "464   0967             01    F   180    S  \n",
      "481   1021             01    F   192    S  \n",
      "...    ...            ...  ...   ...  ...  \n",
      "3957  8621             01    E   552    P  \n",
      "3980  8678             01    G  1399    S  \n",
      "4032  8775             01    D   275    P  \n",
      "4159  9025             01    G  1454    S  \n",
      "4213  9146             01    F  1874    P  \n",
      "\n",
      "[87 rows x 18 columns]\n"
     ]
    }
   ],
   "source": [
    "# Select rows where 'HomePlanet' column has NaN values\n",
    "nan_homeplanet_rows = test[test['HomePlanet'].isna()]\n",
    "\n",
    "# Display these rows in a DataFrame\n",
    "nan_homeplanet_df = pd.DataFrame(nan_homeplanet_rows)\n",
    "\n",
    "# Print the DataFrame\n",
    "print(nan_homeplanet_df)"
   ]
  },
  {
   "cell_type": "code",
   "execution_count": 34,
   "id": "5597a52d",
   "metadata": {},
   "outputs": [
    {
     "name": "stdout",
     "output_type": "stream",
     "text": [
      "     PassengerId HomePlanet CryoSleep     Cabin Destination   Age    VIP  \\\n",
      "347      0382_01        NaN     False    G/64/P         NaN  23.0  False   \n",
      "5208     5555_01        NaN     False   G/896/S         NaN  43.0    NaN   \n",
      "5687     6031_01        NaN     False  F/1146/S         NaN  52.0  False   \n",
      "6629     6992_01        NaN     False  G/1131/P         NaN  12.0  False   \n",
      "\n",
      "      RoomService  FoodCourt  ShoppingMall  Spa  VRDeck                Name  \\\n",
      "347         348.0        0.0           0.0  4.0   368.0  Blanie Floydendley   \n",
      "5208          1.0        0.0         213.0  7.0   701.0    Winia Blanglison   \n",
      "5687          0.0      645.0           0.0  0.0   395.0    Bobara Alshipson   \n",
      "6629          0.0        0.0           0.0  0.0     0.0   Walles Bakerrison   \n",
      "\n",
      "      Transported Deck   Num Side Group NoOfPassengers  \n",
      "347         False    G    64    P  0382             01  \n",
      "5208         True    G   896    S  5555             01  \n",
      "5687         True    F  1146    S  6031             01  \n",
      "6629        False    G  1131    P  6992             01  \n"
     ]
    }
   ],
   "source": [
    "\n",
    "# Group the data by 'Destination' and find the mode 'HomePlanet' for each destination\n",
    "destination_mode = train.groupby('Destination')['HomePlanet'].apply(lambda x: x.mode().iloc[0] if not x.mode().empty else np.nan)\n",
    "\n",
    "# Fill missing 'HomePlanet' values based on 'Destination' mode\n",
    "train['HomePlanet'] = train.apply(lambda row: destination_mode.get(row['Destination'], np.nan) if pd.isna(row['HomePlanet']) else row['HomePlanet'], axis=1)\n",
    "\n",
    "# For passengers with nan values in both 'HomePlanet' and 'Destination', fill mode of 'HomePlanet'\n",
    "nan_both_columns = train[train['HomePlanet'].isna() & train['Destination'].isna()]\n",
    "train.loc[nan_both_columns.index, 'HomePlanet'] = nan_both_columns['Destination'].apply(lambda x: destination_mode.get(x, np.nan))\n",
    "\n",
    "# Print rows with NaN values in 'HomePlanet' column after filling\n",
    "nan_homeplanet_rows_after_fill = train[train['HomePlanet'].isna()]\n",
    "print(nan_homeplanet_rows_after_fill)\n"
   ]
  },
  {
   "cell_type": "code",
   "execution_count": 35,
   "id": "b2d4299b",
   "metadata": {},
   "outputs": [
    {
     "name": "stdout",
     "output_type": "stream",
     "text": [
      "     PassengerId HomePlanet CryoSleep    Cabin Destination   Age    VIP  \\\n",
      "1160     2430_03        NaN     False  G/394/S         NaN  19.0  False   \n",
      "3183     6961_02        NaN     False  D/211/S         NaN  57.0  False   \n",
      "\n",
      "      RoomService  FoodCourt  ShoppingMall    Spa  VRDeck              Name  \\\n",
      "1160        785.0        0.0           0.0    0.0     0.0  Ronia Mcphernard   \n",
      "3183          0.0     2847.0           0.0  101.0  9613.0  Ruchban Ciplanke   \n",
      "\n",
      "     Group NoOfPassengers Deck  Num Side  \n",
      "1160  2430             03    G  394    S  \n",
      "3183  6961             02    D  211    S  \n"
     ]
    }
   ],
   "source": [
    "\n",
    "# Group the data by 'Destination' and find the mode 'HomePlanet' for each destination\n",
    "destination_mode = test.groupby('Destination')['HomePlanet'].apply(lambda x: x.mode().iloc[0] if not x.mode().empty else np.nan)\n",
    "\n",
    "# Fill missing 'HomePlanet' values based on 'Destination' mode\n",
    "test['HomePlanet'] = test.apply(lambda row: destination_mode.get(row['Destination'], np.nan) if pd.isna(row['HomePlanet']) else row['HomePlanet'], axis=1)\n",
    "\n",
    "# For passengers with nan values in both 'HomePlanet' and 'Destination', fill mode of 'HomePlanet'\n",
    "nan_both_columns = test[test['HomePlanet'].isna() & test['Destination'].isna()]\n",
    "test.loc[nan_both_columns.index, 'HomePlanet'] = nan_both_columns['Destination'].apply(lambda x: destination_mode.get(x, np.nan))\n",
    "\n",
    "# Print rows with NaN values in 'HomePlanet' column after filling\n",
    "nan_homeplanet_rows_after_fill = test[test['HomePlanet'].isna()]\n",
    "print(nan_homeplanet_rows_after_fill)\n"
   ]
  },
  {
   "cell_type": "code",
   "execution_count": 36,
   "id": "1a35b340",
   "metadata": {},
   "outputs": [
    {
     "data": {
      "text/plain": [
       "PassengerId         0\n",
       "HomePlanet          4\n",
       "CryoSleep         217\n",
       "Cabin             199\n",
       "Destination       182\n",
       "Age               179\n",
       "VIP               203\n",
       "RoomService       181\n",
       "FoodCourt         183\n",
       "ShoppingMall      208\n",
       "Spa               183\n",
       "VRDeck            188\n",
       "Name              200\n",
       "Transported         0\n",
       "Deck              199\n",
       "Num               199\n",
       "Side              199\n",
       "Group               0\n",
       "NoOfPassengers      0\n",
       "dtype: int64"
      ]
     },
     "execution_count": 36,
     "metadata": {},
     "output_type": "execute_result"
    }
   ],
   "source": [
    "train.isna().sum()"
   ]
  },
  {
   "cell_type": "code",
   "execution_count": 37,
   "id": "5dc784ad",
   "metadata": {},
   "outputs": [
    {
     "data": {
      "text/plain": [
       "array(['Europa', 'Earth', 'Mars', nan], dtype=object)"
      ]
     },
     "execution_count": 37,
     "metadata": {},
     "output_type": "execute_result"
    }
   ],
   "source": [
    "train.HomePlanet.unique()"
   ]
  },
  {
   "cell_type": "code",
   "execution_count": 38,
   "id": "023a9a71",
   "metadata": {},
   "outputs": [
    {
     "data": {
      "image/png": "[encoded data removed]",
      "text/plain": [
       "<Figure size 1000x600 with 1 Axes>"
      ]
     },
     "metadata": {},
     "output_type": "display_data"
    }
   ],
   "source": [
    "\n",
    "# Filter passengers from 'Deck' values 'G'\n",
    "deck_gf_passengers = train[(train['Deck'] == 'G')]\n",
    "\n",
    "# Create a count plot for 'HomePlanet' of passengers from 'Deck' values 'G' and 'F'\n",
    "plt.figure(figsize=(10, 6))\n",
    "sns.countplot(x='HomePlanet', data=deck_gf_passengers)\n",
    "plt.xticks(rotation=90)  # Rotate x-axis labels for better readability\n",
    "plt.xlabel('HomePlanet')\n",
    "plt.ylabel('Count')\n",
    "plt.title('Passengers from Deck G by HomePlanet')\n",
    "plt.show()\n"
   ]
  },
  {
   "cell_type": "code",
   "execution_count": 39,
   "id": "406a86da",
   "metadata": {},
   "outputs": [
    {
     "name": "stdout",
     "output_type": "stream",
     "text": [
      "Empty DataFrame\n",
      "Columns: [PassengerId, HomePlanet, CryoSleep, Cabin, Destination, Age, VIP, RoomService, FoodCourt, ShoppingMall, Spa, VRDeck, Name, Transported, Deck, Num, Side, Group, NoOfPassengers]\n",
      "Index: []\n"
     ]
    }
   ],
   "source": [
    "# Impute remaining NaN values in 'HomePlanet' with the mode of the entire column\n",
    "mode_homeplanet = train['HomePlanet'].mode().iloc[0]\n",
    "train['HomePlanet'].fillna(mode_homeplanet, inplace=True)\n",
    "\n",
    "# Verify if there are still any NaN values in 'HomePlanet'\n",
    "nan_homeplanet_rows_after_fill = train[train['HomePlanet'].isna()]\n",
    "print(nan_homeplanet_rows_after_fill)"
   ]
  },
  {
   "cell_type": "code",
   "execution_count": 40,
   "id": "fcd3bd37",
   "metadata": {},
   "outputs": [
    {
     "name": "stdout",
     "output_type": "stream",
     "text": [
      "Empty DataFrame\n",
      "Columns: [PassengerId, HomePlanet, CryoSleep, Cabin, Destination, Age, VIP, RoomService, FoodCourt, ShoppingMall, Spa, VRDeck, Name, Group, NoOfPassengers, Deck, Num, Side]\n",
      "Index: []\n"
     ]
    }
   ],
   "source": [
    "# Impute remaining NaN values in 'HomePlanet' with the mode of the entire column\n",
    "mode_homeplanet = test['HomePlanet'].mode().iloc[0]\n",
    "test['HomePlanet'].fillna(mode_homeplanet, inplace=True)\n",
    "\n",
    "# Verify if there are still any NaN values in 'HomePlanet'\n",
    "nan_homeplanet_rows_after_fill = test[test['HomePlanet'].isna()]\n",
    "print(nan_homeplanet_rows_after_fill)"
   ]
  },
  {
   "cell_type": "code",
   "execution_count": 41,
   "id": "124e967d",
   "metadata": {},
   "outputs": [
    {
     "data": {
      "text/plain": [
       "array(['Europa', 'Earth', 'Mars'], dtype=object)"
      ]
     },
     "execution_count": 41,
     "metadata": {},
     "output_type": "execute_result"
    }
   ],
   "source": [
    "train.HomePlanet.unique()"
   ]
  },
  {
   "cell_type": "code",
   "execution_count": 42,
   "id": "0bef61db",
   "metadata": {},
   "outputs": [
    {
     "data": {
      "text/plain": [
       "PassengerId         0\n",
       "HomePlanet          0\n",
       "CryoSleep         217\n",
       "Cabin             199\n",
       "Destination       182\n",
       "Age               179\n",
       "VIP               203\n",
       "RoomService       181\n",
       "FoodCourt         183\n",
       "ShoppingMall      208\n",
       "Spa               183\n",
       "VRDeck            188\n",
       "Name              200\n",
       "Transported         0\n",
       "Deck              199\n",
       "Num               199\n",
       "Side              199\n",
       "Group               0\n",
       "NoOfPassengers      0\n",
       "dtype: int64"
      ]
     },
     "execution_count": 42,
     "metadata": {},
     "output_type": "execute_result"
    }
   ],
   "source": [
    "train.isna().sum()"
   ]
  },
  {
   "cell_type": "code",
   "execution_count": 43,
   "id": "47e8e656",
   "metadata": {},
   "outputs": [],
   "source": [
    "train['Leisure_Total'] = train[['RoomService', 'FoodCourt', 'ShoppingMall', 'Spa', 'VRDeck']].sum(axis=1)"
   ]
  },
  {
   "cell_type": "code",
   "execution_count": 44,
   "id": "d1fbfb02",
   "metadata": {},
   "outputs": [],
   "source": [
    "test['Leisure_Total'] = test[['RoomService', 'FoodCourt', 'ShoppingMall', 'Spa', 'VRDeck']].sum(axis=1)"
   ]
  },
  {
   "cell_type": "code",
   "execution_count": 45,
   "id": "137456ef",
   "metadata": {},
   "outputs": [
    {
     "name": "stdout",
     "output_type": "stream",
     "text": [
      "     PassengerId HomePlanet CryoSleep     Cabin  Destination   Age    VIP  \\\n",
      "92       0099_02      Earth       NaN    G/12/P  TRAPPIST-1e   2.0  False   \n",
      "98       0105_01      Earth       NaN    F/21/P  TRAPPIST-1e  27.0  False   \n",
      "104      0110_02     Europa       NaN     B/5/P  TRAPPIST-1e  40.0  False   \n",
      "111      0115_01       Mars       NaN    F/24/P  TRAPPIST-1e  26.0  False   \n",
      "152      0173_01      Earth       NaN    E/11/S  TRAPPIST-1e  58.0  False   \n",
      "...          ...        ...       ...       ...          ...   ...    ...   \n",
      "8620     9197_01     Europa       NaN   C/308/P  55 Cancri e  44.0  False   \n",
      "8651     9227_05      Earth       NaN  G/1498/P  TRAPPIST-1e   8.0  False   \n",
      "8664     9246_01      Earth       NaN  G/1490/S  TRAPPIST-1e  32.0  False   \n",
      "8675     9259_01      Earth       NaN  F/1893/P  TRAPPIST-1e  44.0  False   \n",
      "8687     9275_03     Europa       NaN    A/97/P  TRAPPIST-1e  30.0  False   \n",
      "\n",
      "      RoomService  FoodCourt  ShoppingMall   Spa  VRDeck              Name  \\\n",
      "92            0.0        0.0           0.0   0.0     0.0  Thewis Connelson   \n",
      "98            0.0        0.0         570.0   2.0   131.0  Carry Cleachrand   \n",
      "104           0.0      331.0           0.0   0.0  1687.0   Aldeba Bootious   \n",
      "111           0.0        0.0           0.0   0.0     NaN         Rohs Pead   \n",
      "152           0.0      985.0           0.0   5.0     0.0    Hilip Grifford   \n",
      "...           ...        ...           ...   ...     ...               ...   \n",
      "8620          0.0        0.0           0.0   0.0     0.0     Bellus Platch   \n",
      "8651          0.0        0.0           0.0   0.0     0.0   Hard Hinglendez   \n",
      "8664          0.0        0.0           0.0   0.0     0.0               NaN   \n",
      "8675       1030.0     1015.0           0.0  11.0     NaN   Annah Gilleyons   \n",
      "8687          0.0     3208.0           0.0   2.0   330.0   Atlasym Conable   \n",
      "\n",
      "      Transported Deck   Num Side Group NoOfPassengers  Leisure_Total  \n",
      "92           True    G    12    P  0099             02            0.0  \n",
      "98          False    F    21    P  0105             01          703.0  \n",
      "104         False    B     5    P  0110             02         2018.0  \n",
      "111          True    F    24    P  0115             01            0.0  \n",
      "152          True    E    11    S  0173             01          990.0  \n",
      "...           ...  ...   ...  ...   ...            ...            ...  \n",
      "8620         True    C   308    P  9197             01            0.0  \n",
      "8651        False    G  1498    P  9227             05            0.0  \n",
      "8664         True    G  1490    S  9246             01            0.0  \n",
      "8675         True    F  1893    P  9259             01         2056.0  \n",
      "8687         True    A    97    P  9275             03         3540.0  \n",
      "\n",
      "[217 rows x 20 columns]\n"
     ]
    }
   ],
   "source": [
    "nan_cryosleep_rows = train[train['CryoSleep'].isna()]\n",
    "print(nan_cryosleep_rows)"
   ]
  },
  {
   "cell_type": "code",
   "execution_count": 46,
   "id": "043e7c8f",
   "metadata": {},
   "outputs": [
    {
     "name": "stdout",
     "output_type": "stream",
     "text": [
      "     PassengerId HomePlanet CryoSleep     Cabin  Destination   Age    VIP  \\\n",
      "68       0156_01       Mars       NaN    F/34/P  TRAPPIST-1e   NaN  False   \n",
      "78       0175_02      Earth       NaN    G/25/P  55 Cancri e   8.0  False   \n",
      "92       0208_01      Earth       NaN    G/33/P  TRAPPIST-1e  40.0  False   \n",
      "99       0227_01      Earth       NaN       NaN  TRAPPIST-1e  22.0  False   \n",
      "165      0349_01     Europa       NaN     A/4/S  TRAPPIST-1e  33.0  False   \n",
      "...          ...        ...       ...       ...          ...   ...    ...   \n",
      "3995     8705_01       Mars       NaN  F/1790/P  55 Cancri e  20.0  False   \n",
      "4108     8925_06     Europa       NaN   C/295/P  TRAPPIST-1e  27.0  False   \n",
      "4209     9138_01     Europa       NaN       NaN  TRAPPIST-1e  41.0  False   \n",
      "4230     9182_01      Earth       NaN  F/1776/S  TRAPPIST-1e  14.0  False   \n",
      "4239     9206_03     Europa       NaN   B/352/S  55 Cancri e  32.0  False   \n",
      "\n",
      "      RoomService  FoodCourt  ShoppingMall     Spa  VRDeck  \\\n",
      "68            0.0        0.0           0.0     0.0     0.0   \n",
      "78            0.0        0.0           0.0     0.0     0.0   \n",
      "92           44.0        0.0         565.0     0.0    18.0   \n",
      "99            0.0        0.0           0.0     0.0     0.0   \n",
      "165           0.0     1030.0           0.0  3490.0  5832.0   \n",
      "...           ...        ...           ...     ...     ...   \n",
      "3995          0.0        0.0           0.0     0.0     0.0   \n",
      "4108          0.0     2182.0           7.0  2582.0    19.0   \n",
      "4209          0.0     1998.0           0.0  1023.0   867.0   \n",
      "4230          0.0        0.0           NaN  1377.0    29.0   \n",
      "4239          0.0        0.0           0.0     0.0     0.0   \n",
      "\n",
      "                    Name Group NoOfPassengers Deck   Num Side  Leisure_Total  \n",
      "68           Tures Upead  0156             01    F    34    P            0.0  \n",
      "78          Elody Benney  0175             02    G    25    P            0.0  \n",
      "92            Mael Vales  0208             01    G    33    P          627.0  \n",
      "99       Kurta Buckentry  0227             01  NaN   NaN  NaN            0.0  \n",
      "165       Meropus Ametic  0349             01    A     4    S        10352.0  \n",
      "...                  ...   ...            ...  ...   ...  ...            ...  \n",
      "3995            Anch Gen  8705             01    F  1790    P            0.0  \n",
      "4108      Zedarga Pabler  8925             06    C   295    P         4790.0  \n",
      "4209   Misamak Trupistic  9138             01  NaN   NaN  NaN         3888.0  \n",
      "4230  Garyan Gainebergan  9182             01    F  1776    S         1406.0  \n",
      "4239      Enifik Pokebox  9206             03    B   352    S            0.0  \n",
      "\n",
      "[93 rows x 19 columns]\n"
     ]
    }
   ],
   "source": [
    "nan_cryosleep_rows = test[test['CryoSleep'].isna()]\n",
    "print(nan_cryosleep_rows)"
   ]
  },
  {
   "cell_type": "code",
   "execution_count": 47,
   "id": "9d14c5fc",
   "metadata": {},
   "outputs": [],
   "source": [
    "# Fill NaN values in 'CryoSleep' based on 'Leisure_Total'\n",
    "train['CryoSleep'] = train.apply(lambda row: True if row['Leisure_Total'] == 0 else False\n",
    "                                 if pd.isna(row['CryoSleep']) else row['CryoSleep'], axis=1)"
   ]
  },
  {
   "cell_type": "code",
   "execution_count": 48,
   "id": "c96f35ce",
   "metadata": {},
   "outputs": [],
   "source": [
    "# Fill NaN values in 'CryoSleep' based on 'Leisure_Total'\n",
    "test['CryoSleep'] = test.apply(lambda row: True if row['Leisure_Total'] == 0 else False\n",
    "                                 if pd.isna(row['CryoSleep']) else row['CryoSleep'], axis=1)"
   ]
  },
  {
   "cell_type": "code",
   "execution_count": 49,
   "id": "61138fa4",
   "metadata": {},
   "outputs": [
    {
     "data": {
      "text/plain": [
       "PassengerId         0\n",
       "HomePlanet          0\n",
       "CryoSleep           0\n",
       "Cabin             199\n",
       "Destination       182\n",
       "Age               179\n",
       "VIP               203\n",
       "RoomService       181\n",
       "FoodCourt         183\n",
       "ShoppingMall      208\n",
       "Spa               183\n",
       "VRDeck            188\n",
       "Name              200\n",
       "Transported         0\n",
       "Deck              199\n",
       "Num               199\n",
       "Side              199\n",
       "Group               0\n",
       "NoOfPassengers      0\n",
       "Leisure_Total       0\n",
       "dtype: int64"
      ]
     },
     "execution_count": 49,
     "metadata": {},
     "output_type": "execute_result"
    }
   ],
   "source": [
    "train.isna().sum()"
   ]
  },
  {
   "cell_type": "code",
   "execution_count": 56,
   "id": "3c6dcae2",
   "metadata": {},
   "outputs": [
    {
     "name": "stdout",
     "output_type": "stream",
     "text": [
      "     PassengerId HomePlanet  CryoSleep     Cabin Destination   Age    VIP  \\\n",
      "47       0045_02       Mars       True    F/10/P         NaN  19.0  False   \n",
      "128      0138_02      Earth      False     E/5/P         NaN  34.0  False   \n",
      "139      0152_01      Earth      False    F/32/P         NaN  41.0  False   \n",
      "347      0382_01      Earth      False    G/64/P         NaN  23.0  False   \n",
      "430      0462_01      Earth       True    G/67/S         NaN  50.0  False   \n",
      "...          ...        ...        ...       ...         ...   ...    ...   \n",
      "8372     8956_02      Earth       True  G/1453/P         NaN  20.0  False   \n",
      "8551     9130_01       Mars       True  F/1765/S         NaN  41.0  False   \n",
      "8616     9195_02       Mars       True  F/1779/S         NaN  33.0  False   \n",
      "8621     9197_02     Europa      False   C/308/P         NaN  41.0   True   \n",
      "8646     9226_01      Earth      False  F/1788/S         NaN  22.0  False   \n",
      "\n",
      "      RoomService  FoodCourt  ShoppingMall     Spa  VRDeck  \\\n",
      "47            0.0        0.0           0.0     0.0     0.0   \n",
      "128           0.0       22.0           0.0   564.0   207.0   \n",
      "139           0.0        0.0           0.0     0.0   607.0   \n",
      "347         348.0        0.0           0.0     4.0   368.0   \n",
      "430           0.0        0.0           0.0     0.0     0.0   \n",
      "...           ...        ...           ...     ...     ...   \n",
      "8372          0.0        0.0           0.0     0.0     0.0   \n",
      "8551          0.0        0.0           0.0     0.0     0.0   \n",
      "8616          0.0        0.0           0.0     0.0     0.0   \n",
      "8621          0.0     7964.0           0.0  3238.0  5839.0   \n",
      "8646        676.0        0.0          13.0     0.0    12.0   \n",
      "\n",
      "                    Name  Transported Deck   Num Side Group NoOfPassengers  \\\n",
      "47            Mass Chmad         True    F    10    P  0045             02   \n",
      "128          Monah Gambs        False    E     5    P  0138             02   \n",
      "139         Andan Estron        False    F    32    P  0152             01   \n",
      "347   Blanie Floydendley        False    G    64    P  0382             01   \n",
      "430    Ronia Sosanturney        False    G    67    S  0462             01   \n",
      "...                  ...          ...  ...   ...  ...   ...            ...   \n",
      "8372     Erina Bonnondry         True    G  1453    P  8956             02   \n",
      "8551         Blers Corte         True    F  1765    S  9130             01   \n",
      "8616         Ceros Purle         True    F  1779    S  9195             02   \n",
      "8621      Aludram Platch        False    C   308    P  9197             02   \n",
      "8646    Stendy Connelson        False    F  1788    S  9226             01   \n",
      "\n",
      "      Leisure_Total  \n",
      "47              0.0  \n",
      "128           793.0  \n",
      "139           607.0  \n",
      "347           720.0  \n",
      "430             0.0  \n",
      "...             ...  \n",
      "8372            0.0  \n",
      "8551            0.0  \n",
      "8616            0.0  \n",
      "8621        17041.0  \n",
      "8646          701.0  \n",
      "\n",
      "[182 rows x 20 columns]\n"
     ]
    }
   ],
   "source": [
    "nan_destination_rows = train[train['Destination'].isna()]\n",
    "print(nan_destination_rows)"
   ]
  },
  {
   "cell_type": "code",
   "execution_count": 57,
   "id": "16052a4f",
   "metadata": {},
   "outputs": [
    {
     "name": "stdout",
     "output_type": "stream",
     "text": [
      "     PassengerId HomePlanet  CryoSleep     Cabin Destination   Age    VIP  \\\n",
      "127      0274_01       Mars      False    E/17/S         NaN  14.0  False   \n",
      "198      0419_03      Earth       True    G/70/P         NaN  35.0  False   \n",
      "242      0511_01      Earth      False    G/76/S         NaN  17.0  False   \n",
      "253      0536_02       Mars      False    E/35/S         NaN  37.0  False   \n",
      "277      0617_01       Mars      False   F/130/P         NaN  18.0  False   \n",
      "...          ...        ...        ...       ...         ...   ...    ...   \n",
      "4158     9022_03      Earth       True  F/1748/S         NaN   0.0  False   \n",
      "4163     9039_01      Earth       True  G/1468/P         NaN  23.0  False   \n",
      "4196     9095_01      Earth      False  G/1478/P         NaN  31.0  False   \n",
      "4219     9155_01     Europa      False   C/304/P         NaN  17.0  False   \n",
      "4275     9273_01     Europa      False   D/297/P         NaN   NaN  False   \n",
      "\n",
      "      RoomService  FoodCourt  ShoppingMall     Spa  VRDeck             Name  \\\n",
      "127         123.0        0.0           0.0  1936.0    22.0     Felios Melto   \n",
      "198           0.0        0.0           0.0     0.0     0.0   Erman Monsoney   \n",
      "242         441.0        0.0         131.0   315.0     5.0      Jaye Noelan   \n",
      "253        1063.0      133.0          99.0     2.0     0.0      Blues Vloaf   \n",
      "277        1644.0      430.0         158.0     0.0     0.0     Choney Perta   \n",
      "...           ...        ...           ...     ...     ...              ...   \n",
      "4158          0.0        0.0           0.0     0.0     0.0   Erice Boyerson   \n",
      "4163          0.0        0.0           0.0     0.0     0.0  Nance Wilkinner   \n",
      "4196          0.0        0.0           NaN     0.0   198.0  Lelah Reynoldez   \n",
      "4219        149.0     2045.0           NaN  1872.0     0.0  Markar Amoutake   \n",
      "4275          0.0     2680.0           0.0     0.0   523.0   Kitakan Conale   \n",
      "\n",
      "     Group NoOfPassengers Deck   Num Side  Leisure_Total  \n",
      "127   0274             01    E    17    S         2081.0  \n",
      "198   0419             03    G    70    P            0.0  \n",
      "242   0511             01    G    76    S          892.0  \n",
      "253   0536             02    E    35    S         1297.0  \n",
      "277   0617             01    F   130    P         2232.0  \n",
      "...    ...            ...  ...   ...  ...            ...  \n",
      "4158  9022             03    F  1748    S            0.0  \n",
      "4163  9039             01    G  1468    P            0.0  \n",
      "4196  9095             01    G  1478    P          198.0  \n",
      "4219  9155             01    C   304    P         4066.0  \n",
      "4275  9273             01    D   297    P         3203.0  \n",
      "\n",
      "[92 rows x 19 columns]\n"
     ]
    }
   ],
   "source": [
    "nan_destination_rows = test[test['Destination'].isna()]\n",
    "print(nan_destination_rows)"
   ]
  },
  {
   "cell_type": "code",
   "execution_count": 58,
   "id": "a66aab42",
   "metadata": {},
   "outputs": [],
   "source": [
    "# Group the data by 'Group' and 'HomePlanet' and find the mode 'Destination' for each group\n",
    "group_homeplanet_mode = train.groupby(['Group', 'HomePlanet'])['Destination'].apply(lambda x: x.mode().iloc[0] if not x.mode().empty else np.nan)\n",
    "\n",
    "# Fill missing 'Destination' values based on 'Group' and 'HomePlanet' mode\n",
    "train['Destination'] = train.apply(lambda row: group_homeplanet_mode.get((row['Group'], row['HomePlanet']), np.nan)\n",
    "                                   if pd.isna(row['Destination']) else row['Destination'], axis=1)"
   ]
  },
  {
   "cell_type": "code",
   "execution_count": 59,
   "id": "9c9366ee",
   "metadata": {},
   "outputs": [],
   "source": [
    "# Group the data by 'Group' and 'HomePlanet' and find the mode 'Destination' for each group\n",
    "group_homeplanet_mode = test.groupby(['Group', 'HomePlanet'])['Destination'].apply(lambda x: x.mode().iloc[0] if not x.mode().empty else np.nan)\n",
    "\n",
    "# Fill missing 'Destination' values based on 'Group' and 'HomePlanet' mode\n",
    "test['Destination'] = test.apply(lambda row: group_homeplanet_mode.get((row['Group'], row['HomePlanet']), np.nan)\n",
    "                                   if pd.isna(row['Destination']) else row['Destination'], axis=1)"
   ]
  },
  {
   "cell_type": "code",
   "execution_count": 60,
   "id": "fc3abf3d",
   "metadata": {},
   "outputs": [
    {
     "name": "stdout",
     "output_type": "stream",
     "text": [
      "     PassengerId HomePlanet  CryoSleep     Cabin Destination   Age    VIP  \\\n",
      "139      0152_01      Earth      False    F/32/P         NaN  41.0  False   \n",
      "347      0382_01      Earth      False    G/64/P         NaN  23.0  False   \n",
      "430      0462_01      Earth       True    G/67/S         NaN  50.0  False   \n",
      "547      0576_01      Earth      False   F/107/S         NaN  21.0  False   \n",
      "620      0645_01      Earth      False    G/98/P         NaN  20.0  False   \n",
      "...          ...        ...        ...       ...         ...   ...    ...   \n",
      "8085     8640_01      Earth      False  F/1666/S         NaN  50.0  False   \n",
      "8122     8673_01     Europa       True   C/285/P         NaN  27.0  False   \n",
      "8195     8760_01      Earth      False  F/1696/S         NaN  22.0  False   \n",
      "8551     9130_01       Mars       True  F/1765/S         NaN  41.0  False   \n",
      "8646     9226_01      Earth      False  F/1788/S         NaN  22.0  False   \n",
      "\n",
      "      RoomService  FoodCourt  ShoppingMall    Spa  VRDeck                Name  \\\n",
      "139           0.0        0.0           0.0    0.0   607.0        Andan Estron   \n",
      "347         348.0        0.0           0.0    4.0   368.0  Blanie Floydendley   \n",
      "430           0.0        0.0           0.0    0.0     0.0   Ronia Sosanturney   \n",
      "547           0.0        NaN         625.0  110.0     0.0        Melice Herry   \n",
      "620        1724.0        0.0           0.0    1.0     0.0   Troyra Grahangory   \n",
      "...           ...        ...           ...    ...     ...                 ...   \n",
      "8085        133.0        0.0         525.0    0.0    31.0  Diandy Hurchrisong   \n",
      "8122          0.0        0.0           0.0    0.0     0.0     Taurak Pentical   \n",
      "8195        804.0        0.0           0.0    0.0     0.0     Tance Alvasquez   \n",
      "8551          0.0        0.0           0.0    0.0     0.0         Blers Corte   \n",
      "8646        676.0        0.0          13.0    0.0    12.0    Stendy Connelson   \n",
      "\n",
      "      Transported Deck   Num Side Group NoOfPassengers  Leisure_Total  \n",
      "139         False    F    32    P  0152             01          607.0  \n",
      "347         False    G    64    P  0382             01          720.0  \n",
      "430         False    G    67    S  0462             01            0.0  \n",
      "547         False    F   107    S  0576             01          735.0  \n",
      "620         False    G    98    P  0645             01         1725.0  \n",
      "...           ...  ...   ...  ...   ...            ...            ...  \n",
      "8085        False    F  1666    S  8640             01          689.0  \n",
      "8122         True    C   285    P  8673             01            0.0  \n",
      "8195        False    F  1696    S  8760             01          804.0  \n",
      "8551         True    F  1765    S  9130             01            0.0  \n",
      "8646        False    F  1788    S  9226             01          701.0  \n",
      "\n",
      "[103 rows x 20 columns]\n"
     ]
    }
   ],
   "source": [
    "nan_destination_rows = train[train['Destination'].isna()]\n",
    "print(nan_destination_rows)"
   ]
  },
  {
   "cell_type": "code",
   "execution_count": 61,
   "id": "0b3b0b97",
   "metadata": {},
   "outputs": [],
   "source": [
    "# Group the data by 'HomePlanet' and 'Deck' and find the mode 'Destination' for each group\n",
    "homeplanet_deck_mode = train.groupby(['HomePlanet', 'Deck'])['Destination'].apply(lambda x: x.mode().iloc[0] if not x.mode().empty else np.nan)\n",
    "\n",
    "# Fill missing 'Destination' values based on 'HomePlanet' and 'Deck' mode\n",
    "train['Destination'] = train.apply(lambda row: homeplanet_deck_mode.get((row['HomePlanet'], row['Deck']), np.nan)\n",
    "                                   if pd.isna(row['Destination']) else row['Destination'], axis=1)"
   ]
  },
  {
   "cell_type": "code",
   "execution_count": 62,
   "id": "ce7e3633",
   "metadata": {},
   "outputs": [],
   "source": [
    "# Group the data by 'HomePlanet' and 'Deck' and find the mode 'Destination' for each group\n",
    "homeplanet_deck_mode = test.groupby(['HomePlanet', 'Deck'])['Destination'].apply(lambda x: x.mode().iloc[0] if not x.mode().empty else np.nan)\n",
    "\n",
    "# Fill missing 'Destination' values based on 'HomePlanet' and 'Deck' mode\n",
    "test['Destination'] = test.apply(lambda row: homeplanet_deck_mode.get((row['HomePlanet'], row['Deck']), np.nan)\n",
    "                                   if pd.isna(row['Destination']) else row['Destination'], axis=1)"
   ]
  },
  {
   "cell_type": "code",
   "execution_count": 63,
   "id": "f3a0cc12",
   "metadata": {},
   "outputs": [
    {
     "name": "stdout",
     "output_type": "stream",
     "text": [
      "     PassengerId HomePlanet  CryoSleep Cabin Destination   Age    VIP  \\\n",
      "5710     6048_01       Mars       True   NaN         NaN  25.0  False   \n",
      "6112     6451_01       Mars      False   NaN         NaN  37.0  False   \n",
      "\n",
      "      RoomService  FoodCourt  ShoppingMall    Spa  VRDeck          Name  \\\n",
      "5710          0.0        0.0           0.0    0.0     0.0    Mele Clake   \n",
      "6112        610.0        NaN         410.0  148.0    14.0  Carkes Panad   \n",
      "\n",
      "      Transported Deck  Num Side Group NoOfPassengers  Leisure_Total  \n",
      "5710        False  NaN  NaN  NaN  6048             01            0.0  \n",
      "6112        False  NaN  NaN  NaN  6451             01         1182.0  \n"
     ]
    }
   ],
   "source": [
    "nan_destination_rows = train[train['Destination'].isna()]\n",
    "print(nan_destination_rows)"
   ]
  },
  {
   "cell_type": "code",
   "execution_count": 64,
   "id": "9dfbd5dc",
   "metadata": {},
   "outputs": [
    {
     "name": "stdout",
     "output_type": "stream",
     "text": [
      "Empty DataFrame\n",
      "Columns: [PassengerId, HomePlanet, CryoSleep, Cabin, Destination, Age, VIP, RoomService, FoodCourt, ShoppingMall, Spa, VRDeck, Name, Group, NoOfPassengers, Deck, Num, Side, Leisure_Total]\n",
      "Index: []\n"
     ]
    }
   ],
   "source": [
    "nan_destination_rows = test[test['Destination'].isna()]\n",
    "print(nan_destination_rows)"
   ]
  },
  {
   "cell_type": "code",
   "execution_count": 65,
   "id": "45043211",
   "metadata": {},
   "outputs": [],
   "source": [
    "# Calculate the mode Destination for passengers from HomePlanet Mars\n",
    "mars_mode_destination = train[train['HomePlanet'] == 'Mars']['Destination'].mode().iloc[0]\n",
    "\n",
    "# Fill the remaining missing 'Destination' values for Mars passengers\n",
    "train['Destination'] = train.apply(lambda row: mars_mode_destination if pd.isna(row['Destination']) and row['HomePlanet'] == 'Mars' else row['Destination'], axis=1)\n"
   ]
  },
  {
   "cell_type": "code",
   "execution_count": 66,
   "id": "21a04ef2",
   "metadata": {},
   "outputs": [
    {
     "data": {
      "text/plain": [
       "array(['TRAPPIST-1e', 'PSO J318.5-22', '55 Cancri e'], dtype=object)"
      ]
     },
     "execution_count": 66,
     "metadata": {},
     "output_type": "execute_result"
    }
   ],
   "source": [
    "train.Destination.unique()"
   ]
  },
  {
   "cell_type": "code",
   "execution_count": 67,
   "id": "63dd3fa3",
   "metadata": {},
   "outputs": [
    {
     "data": {
      "text/plain": [
       "PassengerId         0\n",
       "HomePlanet          0\n",
       "CryoSleep           0\n",
       "Cabin             199\n",
       "Destination         0\n",
       "Age               179\n",
       "VIP               203\n",
       "RoomService       181\n",
       "FoodCourt         183\n",
       "ShoppingMall      208\n",
       "Spa               183\n",
       "VRDeck            188\n",
       "Name              200\n",
       "Transported         0\n",
       "Deck              199\n",
       "Num               199\n",
       "Side              199\n",
       "Group               0\n",
       "NoOfPassengers      0\n",
       "Leisure_Total       0\n",
       "dtype: int64"
      ]
     },
     "execution_count": 67,
     "metadata": {},
     "output_type": "execute_result"
    }
   ],
   "source": [
    "train.isna().sum()"
   ]
  },
  {
   "cell_type": "code",
   "execution_count": 68,
   "id": "2fd593e8",
   "metadata": {},
   "outputs": [
    {
     "name": "stdout",
     "output_type": "stream",
     "text": [
      "     PassengerId HomePlanet  CryoSleep     Cabin  Destination  Age    VIP  \\\n",
      "50       0052_01      Earth      False     G/6/S  TRAPPIST-1e  NaN  False   \n",
      "64       0068_01       Mars      False     E/4/S  TRAPPIST-1e  NaN  False   \n",
      "137      0149_01      Earth       True    G/27/S  55 Cancri e  NaN  False   \n",
      "181      0202_02     Europa      False     A/2/P  55 Cancri e  NaN  False   \n",
      "184      0206_01     Europa      False     C/9/S  55 Cancri e  NaN  False   \n",
      "...          ...        ...        ...       ...          ...  ...    ...   \n",
      "8274     8835_01      Earth       True  G/1425/S  TRAPPIST-1e  NaN  False   \n",
      "8301     8862_03     Europa       True   C/329/S  TRAPPIST-1e  NaN  False   \n",
      "8374     8956_04      Earth      False  G/1453/P  TRAPPIST-1e  NaN  False   \n",
      "8407     8988_01      Earth       True  G/1448/S  TRAPPIST-1e  NaN  False   \n",
      "8557     9136_01      Earth      False  G/1471/S  TRAPPIST-1e  NaN  False   \n",
      "\n",
      "      RoomService  FoodCourt  ShoppingMall     Spa  VRDeck  \\\n",
      "50            4.0        0.0           2.0  4683.0     0.0   \n",
      "64          793.0        0.0           2.0   253.0     0.0   \n",
      "137           0.0        0.0           0.0     0.0     0.0   \n",
      "181           0.0     2433.0           NaN   878.0   443.0   \n",
      "184           2.0     1720.0          12.0  1125.0   122.0   \n",
      "...           ...        ...           ...     ...     ...   \n",
      "8274          0.0        0.0           0.0     0.0     0.0   \n",
      "8301          0.0        0.0           0.0     0.0     0.0   \n",
      "8374        194.0        1.0          10.0   629.0     0.0   \n",
      "8407          0.0        0.0           0.0     0.0     0.0   \n",
      "8557          6.0        0.0           0.0   800.0     3.0   \n",
      "\n",
      "                    Name  Transported Deck   Num Side Group NoOfPassengers  \\\n",
      "50      Elaney Hubbarton        False    G     6    S  0052             01   \n",
      "64           Cinst Binie        False    E     4    S  0068             01   \n",
      "137   Billya Hubbarrison         True    G    27    S  0149             01   \n",
      "181        Vegas Embleng         True    A     2    P  0202             02   \n",
      "184      Nuson Brugashed         True    C     9    S  0206             01   \n",
      "...                  ...          ...  ...   ...  ...   ...            ...   \n",
      "8274     Shalle Bartines        False    G  1425    S  8835             01   \n",
      "8301       Alchib Myling         True    C   329    S  8862             03   \n",
      "8374     Krisa Bonnondry        False    G  1453    P  8956             04   \n",
      "8407    Maen Fowlesterez         True    G  1448    S  8988             01   \n",
      "8557         Sall Hestes        False    G  1471    S  9136             01   \n",
      "\n",
      "      Leisure_Total  \n",
      "50           4689.0  \n",
      "64           1048.0  \n",
      "137             0.0  \n",
      "181          3754.0  \n",
      "184          2981.0  \n",
      "...             ...  \n",
      "8274            0.0  \n",
      "8301            0.0  \n",
      "8374          834.0  \n",
      "8407            0.0  \n",
      "8557          809.0  \n",
      "\n",
      "[179 rows x 20 columns]\n"
     ]
    }
   ],
   "source": [
    "nan_age_rows = train[train['Age'].isna()]\n",
    "print(nan_age_rows)"
   ]
  },
  {
   "cell_type": "code",
   "execution_count": 69,
   "id": "05c9ab2d",
   "metadata": {},
   "outputs": [
    {
     "name": "stdout",
     "output_type": "stream",
     "text": [
      "     PassengerId HomePlanet  CryoSleep     Cabin  Destination  Age    VIP  \\\n",
      "42       0100_01      Earth      False    G/13/P  TRAPPIST-1e  NaN    NaN   \n",
      "68       0156_01       Mars       True    F/34/P  TRAPPIST-1e  NaN  False   \n",
      "146      0319_02       Mars       True    F/69/P  55 Cancri e  NaN  False   \n",
      "157      0339_05      Earth       True    G/56/P  55 Cancri e  NaN  False   \n",
      "211      0467_02       Mars       True    D/17/P  TRAPPIST-1e  NaN  False   \n",
      "...          ...        ...        ...       ...          ...  ...    ...   \n",
      "4180     9065_01       Mars       True  F/1755/S  TRAPPIST-1e  NaN  False   \n",
      "4216     9147_01      Earth       True  G/1490/P  TRAPPIST-1e  NaN  False   \n",
      "4229     9177_02     Europa       True   C/306/P  55 Cancri e  NaN  False   \n",
      "4274     9271_01       Mars       True   D/296/P  55 Cancri e  NaN  False   \n",
      "4275     9273_01     Europa      False   D/297/P  TRAPPIST-1e  NaN  False   \n",
      "\n",
      "      RoomService  FoodCourt  ShoppingMall  Spa  VRDeck               Name  \\\n",
      "42            0.0       17.0         997.0  0.0     0.0    Dary Cochrisons   \n",
      "68            0.0        0.0           0.0  0.0     0.0        Tures Upead   \n",
      "146           0.0        0.0           0.0  0.0     0.0        Pigars Prie   \n",
      "157           0.0        0.0           0.0  0.0     0.0  Davisy Colleruces   \n",
      "211           0.0        0.0           0.0  0.0     NaN         Cings Keen   \n",
      "...           ...        ...           ...  ...     ...                ...   \n",
      "4180          0.0        0.0           0.0  0.0     0.0           Jet Bart   \n",
      "4216          0.0        0.0           0.0  0.0     0.0  Gabrin Meyersones   \n",
      "4229          0.0        0.0           0.0  0.0     0.0     Zedarga Vablug   \n",
      "4274          0.0        0.0           0.0  0.0     0.0        Jayrin Pore   \n",
      "4275          0.0     2680.0           0.0  0.0   523.0     Kitakan Conale   \n",
      "\n",
      "     Group NoOfPassengers Deck   Num Side  Leisure_Total  \n",
      "42    0100             01    G    13    P         1014.0  \n",
      "68    0156             01    F    34    P            0.0  \n",
      "146   0319             02    F    69    P            0.0  \n",
      "157   0339             05    G    56    P            0.0  \n",
      "211   0467             02    D    17    P            0.0  \n",
      "...    ...            ...  ...   ...  ...            ...  \n",
      "4180  9065             01    F  1755    S            0.0  \n",
      "4216  9147             01    G  1490    P            0.0  \n",
      "4229  9177             02    C   306    P            0.0  \n",
      "4274  9271             01    D   296    P            0.0  \n",
      "4275  9273             01    D   297    P         3203.0  \n",
      "\n",
      "[91 rows x 19 columns]\n"
     ]
    }
   ],
   "source": [
    "nan_age_rows = test[test['Age'].isna()]\n",
    "print(nan_age_rows)"
   ]
  },
  {
   "cell_type": "code",
   "execution_count": 70,
   "id": "ba77d3eb",
   "metadata": {},
   "outputs": [
    {
     "name": "stdout",
     "output_type": "stream",
     "text": [
      "Mean Age of Passengers in CryoSleep (True): 24.89702581369248\n",
      "Median Age of Passengers in CryoSleep (True): 24.0\n"
     ]
    }
   ],
   "source": [
    "# Filter the DataFrame to select passengers in CryoSleep (CryoSleep=True)\n",
    "cryosleep_passengers = train[train['CryoSleep'] == True]\n",
    "\n",
    "# Calculate the mean and median age of passengers in CryoSleep\n",
    "mean_age_cryosleep = cryosleep_passengers['Age'].mean()\n",
    "median_age_cryosleep = cryosleep_passengers['Age'].median()\n",
    "\n",
    "print(\"Mean Age of Passengers in CryoSleep (True):\", mean_age_cryosleep)\n",
    "print(\"Median Age of Passengers in CryoSleep (True):\", median_age_cryosleep)\n"
   ]
  },
  {
   "cell_type": "code",
   "execution_count": 71,
   "id": "65bcd71f",
   "metadata": {},
   "outputs": [
    {
     "name": "stdout",
     "output_type": "stream",
     "text": [
      "Mean Age of Passengers in CryoSleep (True): 25.526643990929706\n",
      "Median Age of Passengers in CryoSleep (True): 24.0\n"
     ]
    }
   ],
   "source": [
    "# Filter the DataFrame to select passengers in CryoSleep (CryoSleep=True)\n",
    "cryosleep_passengers = test[test['CryoSleep'] == True]\n",
    "\n",
    "# Calculate the mean and median age of passengers in CryoSleep\n",
    "mean_age_cryosleep = cryosleep_passengers['Age'].mean()\n",
    "median_age_cryosleep = cryosleep_passengers['Age'].median()\n",
    "\n",
    "print(\"Mean Age of Passengers in CryoSleep (True):\", mean_age_cryosleep)\n",
    "print(\"Median Age of Passengers in CryoSleep (True):\", median_age_cryosleep)"
   ]
  },
  {
   "cell_type": "code",
   "execution_count": 72,
   "id": "05fd215e",
   "metadata": {},
   "outputs": [],
   "source": [
    "# Calculate the median age of passengers in CryoSleep (CryoSleep=True)\n",
    "median_age_cryosleep = train[train['CryoSleep'] == True]['Age'].median()\n",
    "\n",
    "# Fill NaN values in 'Age' with the median age of CryoSleep True passengers if CryoSleep is True, otherwise keep NaN values\n",
    "train['Age'] = train.apply(lambda row: median_age_cryosleep if pd.isna(row['Age']) and row['CryoSleep'] == True else row['Age'], axis=1)\n"
   ]
  },
  {
   "cell_type": "code",
   "execution_count": 73,
   "id": "f21cc827",
   "metadata": {},
   "outputs": [],
   "source": [
    "# Calculate the median age of passengers in CryoSleep (CryoSleep=True)\n",
    "median_age_cryosleep = test[test['CryoSleep'] == True]['Age'].median()\n",
    "\n",
    "# Fill NaN values in 'Age' with the median age of CryoSleep True passengers if CryoSleep is True, otherwise keep NaN values\n",
    "test['Age'] = test.apply(lambda row: median_age_cryosleep if pd.isna(row['Age']) and row['CryoSleep'] == True else row['Age'], axis=1)\n"
   ]
  },
  {
   "cell_type": "code",
   "execution_count": 74,
   "id": "8efb71db",
   "metadata": {},
   "outputs": [
    {
     "name": "stdout",
     "output_type": "stream",
     "text": [
      "     PassengerId HomePlanet  CryoSleep     Cabin  Destination  Age    VIP  \\\n",
      "50       0052_01      Earth      False     G/6/S  TRAPPIST-1e  NaN  False   \n",
      "64       0068_01       Mars      False     E/4/S  TRAPPIST-1e  NaN  False   \n",
      "181      0202_02     Europa      False     A/2/P  55 Cancri e  NaN  False   \n",
      "184      0206_01     Europa      False     C/9/S  55 Cancri e  NaN  False   \n",
      "325      0365_01      Earth      False    G/51/S  55 Cancri e  NaN  False   \n",
      "...          ...        ...        ...       ...          ...  ...    ...   \n",
      "7976     8530_01       Mars      False  F/1640/S  TRAPPIST-1e  NaN  False   \n",
      "8133     8688_01      Earth      False  F/1681/S  TRAPPIST-1e  NaN  False   \n",
      "8173     8733_01      Earth      False  G/1406/S  TRAPPIST-1e  NaN  False   \n",
      "8374     8956_04      Earth      False  G/1453/P  TRAPPIST-1e  NaN  False   \n",
      "8557     9136_01      Earth      False  G/1471/S  TRAPPIST-1e  NaN  False   \n",
      "\n",
      "      RoomService  FoodCourt  ShoppingMall     Spa  VRDeck               Name  \\\n",
      "50            4.0        0.0           2.0  4683.0     0.0   Elaney Hubbarton   \n",
      "64          793.0        0.0           2.0   253.0     0.0        Cinst Binie   \n",
      "181           0.0     2433.0           NaN   878.0   443.0      Vegas Embleng   \n",
      "184           2.0     1720.0          12.0  1125.0   122.0    Nuson Brugashed   \n",
      "325           0.0        0.0           0.0   685.0    21.0  Dandra Jacostaney   \n",
      "...           ...        ...           ...     ...     ...                ...   \n",
      "7976       2502.0        0.0          44.0    23.0    29.0         Sher Shpie   \n",
      "8133          0.0        0.0           0.0   595.0     0.0  Eillis Moodmandez   \n",
      "8173         22.0      226.0           0.0     0.0   633.0     Leen Wolfernan   \n",
      "8374        194.0        1.0          10.0   629.0     0.0    Krisa Bonnondry   \n",
      "8557          6.0        0.0           0.0   800.0     3.0        Sall Hestes   \n",
      "\n",
      "      Transported Deck   Num Side Group NoOfPassengers  Leisure_Total  \n",
      "50          False    G     6    S  0052             01         4689.0  \n",
      "64          False    E     4    S  0068             01         1048.0  \n",
      "181          True    A     2    P  0202             02         3754.0  \n",
      "184          True    C     9    S  0206             01         2981.0  \n",
      "325         False    G    51    S  0365             01          706.0  \n",
      "...           ...  ...   ...  ...   ...            ...            ...  \n",
      "7976        False    F  1640    S  8530             01         2598.0  \n",
      "8133        False    F  1681    S  8688             01          595.0  \n",
      "8173        False    G  1406    S  8733             01          881.0  \n",
      "8374        False    G  1453    P  8956             04          834.0  \n",
      "8557        False    G  1471    S  9136             01          809.0  \n",
      "\n",
      "[90 rows x 20 columns]\n"
     ]
    }
   ],
   "source": [
    "nan_age_rows = train[train['Age'].isna()]\n",
    "print(nan_age_rows)"
   ]
  },
  {
   "cell_type": "code",
   "execution_count": 75,
   "id": "abab2065",
   "metadata": {},
   "outputs": [
    {
     "data": {
      "text/plain": [
       "PassengerId         0\n",
       "HomePlanet          0\n",
       "CryoSleep           0\n",
       "Cabin             100\n",
       "Destination         0\n",
       "Age                51\n",
       "VIP                93\n",
       "RoomService        82\n",
       "FoodCourt         106\n",
       "ShoppingMall       98\n",
       "Spa               101\n",
       "VRDeck             80\n",
       "Name               94\n",
       "Group               0\n",
       "NoOfPassengers      0\n",
       "Deck              100\n",
       "Num               100\n",
       "Side              100\n",
       "Leisure_Total       0\n",
       "dtype: int64"
      ]
     },
     "execution_count": 75,
     "metadata": {},
     "output_type": "execute_result"
    }
   ],
   "source": [
    "test.isna().sum()"
   ]
  },
  {
   "cell_type": "code",
   "execution_count": 76,
   "id": "97156322",
   "metadata": {},
   "outputs": [
    {
     "name": "stdout",
     "output_type": "stream",
     "text": [
      "Mean Age of All Passengers: 28.777984424038127\n",
      "Median Age of All Passengers: 27.0\n"
     ]
    }
   ],
   "source": [
    "# Calculate the mean and median age of all passengers in the DataFrame\n",
    "mean_age = train['Age'].mean()\n",
    "median_age = train['Age'].median()\n",
    "\n",
    "print(\"Mean Age of All Passengers:\", mean_age)\n",
    "print(\"Median Age of All Passengers:\", median_age)"
   ]
  },
  {
   "cell_type": "code",
   "execution_count": 77,
   "id": "3a2fd335",
   "metadata": {},
   "outputs": [
    {
     "name": "stdout",
     "output_type": "stream",
     "text": [
      "Mean Age of All Passengers: 28.61405584477047\n",
      "Median Age of All Passengers: 26.0\n"
     ]
    }
   ],
   "source": [
    "# Calculate the mean and median age of all passengers in the DataFrame\n",
    "mean_age = test['Age'].mean()\n",
    "median_age = test['Age'].median()\n",
    "\n",
    "print(\"Mean Age of All Passengers:\", mean_age)\n",
    "print(\"Median Age of All Passengers:\", median_age)"
   ]
  },
  {
   "cell_type": "code",
   "execution_count": 78,
   "id": "c3ef91c5",
   "metadata": {},
   "outputs": [
    {
     "name": "stdout",
     "output_type": "stream",
     "text": [
      "Median Age of Passengers with Leisure_Total > 1000: 31.0\n",
      "Median Age of Passengers with Leisure_Total <= 1000: 24.0\n"
     ]
    }
   ],
   "source": [
    "# Median age of passengers with Leisure_Total greater than 1000\n",
    "median_age_above_1000 = train[train['Leisure_Total'] > 1000]['Age'].median()\n",
    "\n",
    "# Median age of passengers with Leisure_Total less than or equal to 1000\n",
    "median_age_below_or_equal_1000 = train[train['Leisure_Total'] <= 1000]['Age'].median()\n",
    "\n",
    "print(\"Median Age of Passengers with Leisure_Total > 1000:\", median_age_above_1000)\n",
    "print(\"Median Age of Passengers with Leisure_Total <= 1000:\", median_age_below_or_equal_1000)\n"
   ]
  },
  {
   "cell_type": "code",
   "execution_count": 79,
   "id": "e1f62f71",
   "metadata": {},
   "outputs": [
    {
     "name": "stdout",
     "output_type": "stream",
     "text": [
      "Median Age of Passengers with Leisure_Total > 1000: 29.0\n",
      "Median Age of Passengers with Leisure_Total <= 1000: 24.0\n"
     ]
    }
   ],
   "source": [
    "# Median age of passengers with Leisure_Total greater than 1000\n",
    "median_age_above_1000 = test[test['Leisure_Total'] > 1000]['Age'].median()\n",
    "\n",
    "# Median age of passengers with Leisure_Total less than or equal to 1000\n",
    "median_age_below_or_equal_1000 = test[test['Leisure_Total'] <= 1000]['Age'].median()\n",
    "\n",
    "print(\"Median Age of Passengers with Leisure_Total > 1000:\", median_age_above_1000)\n",
    "print(\"Median Age of Passengers with Leisure_Total <= 1000:\", median_age_below_or_equal_1000)"
   ]
  },
  {
   "cell_type": "code",
   "execution_count": 80,
   "id": "748ce480",
   "metadata": {},
   "outputs": [
    {
     "name": "stdout",
     "output_type": "stream",
     "text": [
      "Number of remaining NaN values in Age: 0\n"
     ]
    }
   ],
   "source": [
    "# Calculate the median age of passengers with Leisure_Total > 1000\n",
    "median_age_above_1000 = train[train['Leisure_Total'] > 1000]['Age'].median()\n",
    "\n",
    "# Calculate the median age of passengers with Leisure_Total <= 1000\n",
    "median_age_below_or_equal_1000 = train[train['Leisure_Total'] <= 1000]['Age'].median()\n",
    "\n",
    "# Fill NaN values in Age based on Leisure_Total condition\n",
    "train['Age'].fillna(\n",
    "    train['Leisure_Total'].apply(lambda x: median_age_above_1000 if x > 1000 else median_age_below_or_equal_1000),\n",
    "    inplace=True\n",
    ")\n",
    "\n",
    "# Verify that there are no more NaN values in the Age column\n",
    "print(\"Number of remaining NaN values in Age:\", train['Age'].isna().sum())\n"
   ]
  },
  {
   "cell_type": "code",
   "execution_count": 81,
   "id": "61bde29a",
   "metadata": {},
   "outputs": [
    {
     "name": "stdout",
     "output_type": "stream",
     "text": [
      "Number of remaining NaN values in Age: 0\n"
     ]
    }
   ],
   "source": [
    "# Calculate the median age of passengers with Leisure_Total > 1000\n",
    "median_age_above_1000 = test[test['Leisure_Total'] > 1000]['Age'].median()\n",
    "\n",
    "# Calculate the median age of passengers with Leisure_Total <= 1000\n",
    "median_age_below_or_equal_1000 = test[test['Leisure_Total'] <= 1000]['Age'].median()\n",
    "\n",
    "# Fill NaN values in Age based on Leisure_Total condition\n",
    "test['Age'].fillna(\n",
    "    test['Leisure_Total'].apply(lambda x: median_age_above_1000 if x > 1000 else median_age_below_or_equal_1000),\n",
    "    inplace=True\n",
    ")\n",
    "\n",
    "# Verify that there are no more NaN values in the Age column\n",
    "print(\"Number of remaining NaN values in Age:\", test['Age'].isna().sum())\n"
   ]
  },
  {
   "cell_type": "code",
   "execution_count": 82,
   "id": "a6e5c851",
   "metadata": {},
   "outputs": [
    {
     "data": {
      "text/plain": [
       "PassengerId         0\n",
       "HomePlanet          0\n",
       "CryoSleep           0\n",
       "Cabin             199\n",
       "Destination         0\n",
       "Age                 0\n",
       "VIP               203\n",
       "RoomService       181\n",
       "FoodCourt         183\n",
       "ShoppingMall      208\n",
       "Spa               183\n",
       "VRDeck            188\n",
       "Name              200\n",
       "Transported         0\n",
       "Deck              199\n",
       "Num               199\n",
       "Side              199\n",
       "Group               0\n",
       "NoOfPassengers      0\n",
       "Leisure_Total       0\n",
       "dtype: int64"
      ]
     },
     "execution_count": 82,
     "metadata": {},
     "output_type": "execute_result"
    }
   ],
   "source": [
    "train.isna().sum()"
   ]
  },
  {
   "cell_type": "code",
   "execution_count": 83,
   "id": "58a0d753",
   "metadata": {},
   "outputs": [
    {
     "name": "stdout",
     "output_type": "stream",
     "text": [
      "     PassengerId HomePlanet  CryoSleep    Cabin  Destination   Age   VIP  \\\n",
      "2        0003_01     Europa      False    A/0/S  TRAPPIST-1e  58.0  True   \n",
      "108      0112_01     Europa      False    B/1/S  55 Cancri e  48.0  True   \n",
      "120      0128_01       Mars      False    D/3/S  TRAPPIST-1e  61.0  True   \n",
      "214      0224_01       Mars      False   F/42/S  TRAPPIST-1e  32.0  True   \n",
      "291      0321_01      Earth      False   F/61/S  TRAPPIST-1e  59.0  True   \n",
      "...          ...        ...        ...      ...          ...   ...   ...   \n",
      "8579     9158_01     Europa       True  B/298/P  55 Cancri e  30.0  True   \n",
      "8614     9194_02     Europa      False  E/603/S  TRAPPIST-1e  32.0  True   \n",
      "8621     9197_02     Europa      False  C/308/P  55 Cancri e  41.0  True   \n",
      "8652     9230_01     Europa      False  C/342/S  TRAPPIST-1e  36.0  True   \n",
      "8688     9276_01     Europa      False   A/98/P  55 Cancri e  41.0  True   \n",
      "\n",
      "      RoomService  FoodCourt  ShoppingMall     Spa  VRDeck               Name  \\\n",
      "2            43.0     3576.0           0.0  6715.0    49.0      Altark Susent   \n",
      "108           0.0     2537.0          87.0    17.0    13.0       Moth Cowtale   \n",
      "120        2353.0      334.0           9.0   316.0     2.0         Grohs Fles   \n",
      "214         181.0        0.0           5.0  1634.0     0.0        Blues Queen   \n",
      "291        1018.0        0.0         209.0     0.0     0.0       Quites Bache   \n",
      "...           ...        ...           ...     ...     ...                ...   \n",
      "8579          0.0        0.0           0.0     0.0     0.0    Magnon Maglible   \n",
      "8614       1003.0      909.0           0.0     0.0    15.0      Tachba Subwor   \n",
      "8621          0.0     7964.0           0.0  3238.0  5839.0     Aludram Platch   \n",
      "8652          0.0     5600.0         715.0  2868.0   971.0                NaN   \n",
      "8688          0.0     6819.0           0.0  1643.0    74.0  Gravior Noxnuther   \n",
      "\n",
      "      Transported Deck  Num Side Group NoOfPassengers  Leisure_Total  \n",
      "2           False    A    0    S  0003             01        10383.0  \n",
      "108          True    B    1    S  0112             01         2654.0  \n",
      "120         False    D    3    S  0128             01         3014.0  \n",
      "214         False    F   42    S  0224             01         1820.0  \n",
      "291         False    F   61    S  0321             01         1227.0  \n",
      "...           ...  ...  ...  ...   ...            ...            ...  \n",
      "8579         True    B  298    P  9158             01            0.0  \n",
      "8614        False    E  603    S  9194             02         1927.0  \n",
      "8621        False    C  308    P  9197             02        17041.0  \n",
      "8652         True    C  342    S  9230             01        10154.0  \n",
      "8688        False    A   98    P  9276             01         8536.0  \n",
      "\n",
      "[199 rows x 20 columns]\n"
     ]
    }
   ],
   "source": [
    "vip_passengers = train[train['VIP'] == True]\n",
    "print(vip_passengers)"
   ]
  },
  {
   "cell_type": "code",
   "execution_count": 84,
   "id": "aee51654",
   "metadata": {},
   "outputs": [
    {
     "name": "stdout",
     "output_type": "stream",
     "text": [
      "     PassengerId HomePlanet  CryoSleep     Cabin    Destination   Age   VIP  \\\n",
      "90       0194_03     Europa      False     C/4/P    55 Cancri e  26.0  True   \n",
      "278      0620_01       Mars      False   F/132/P    TRAPPIST-1e  51.0  True   \n",
      "289      0626_03     Europa      False    D/21/S    TRAPPIST-1e  25.0  True   \n",
      "381      0800_01     Europa      False    C/34/S    55 Cancri e  29.0  True   \n",
      "388      0814_01       Mars      False   F/153/S    TRAPPIST-1e  22.0  True   \n",
      "...          ...        ...        ...       ...            ...   ...   ...   \n",
      "4092     8911_01       Mars      False   D/279/P    TRAPPIST-1e  43.0  True   \n",
      "4115     8936_01       Mars      False   E/586/S    TRAPPIST-1e  55.0  True   \n",
      "4133     8979_01       Mars      False  F/1738/S  PSO J318.5-22  39.0  True   \n",
      "4152     9016_03     Europa      False   B/345/S    55 Cancri e  30.0  True   \n",
      "4172     9053_02     Europa      False   B/295/P    TRAPPIST-1e  28.0  True   \n",
      "\n",
      "      RoomService  FoodCourt  ShoppingMall      Spa  VRDeck            Name  \\\n",
      "90            0.0      275.0           0.0   4572.0   163.0   Polar Extraly   \n",
      "278         755.0        6.0         284.0    102.0     NaN       All Derte   \n",
      "289          30.0     5718.0           0.0      0.0  1385.0  Askedus Emoted   \n",
      "381         149.0     1704.0           0.0   7402.0    14.0    Taram Gented   \n",
      "388        2227.0      324.0          47.0      NaN     0.0      Igrish Cha   \n",
      "...           ...        ...           ...      ...     ...             ...   \n",
      "4092         12.0        0.0        1039.0      6.0     0.0     Barave Late   \n",
      "4115       1176.0        0.0           6.0    967.0     2.0     Caish Rekle   \n",
      "4133        369.0        0.0        1636.0      0.0     0.0    Jackok Winie   \n",
      "4152          0.0     1517.0           0.0  14252.0  4617.0  Okulas Extraly   \n",
      "4172         10.0     6882.0         131.0     76.0     0.0   Gimph Cableck   \n",
      "\n",
      "     Group NoOfPassengers Deck   Num Side  Leisure_Total  \n",
      "90    0194             03    C     4    P         5010.0  \n",
      "278   0620             01    F   132    P         1147.0  \n",
      "289   0626             03    D    21    S         7133.0  \n",
      "381   0800             01    C    34    S         9269.0  \n",
      "388   0814             01    F   153    S         2598.0  \n",
      "...    ...            ...  ...   ...  ...            ...  \n",
      "4092  8911             01    D   279    P         1057.0  \n",
      "4115  8936             01    E   586    S         2151.0  \n",
      "4133  8979             01    F  1738    S         2005.0  \n",
      "4152  9016             03    B   345    S        20386.0  \n",
      "4172  9053             02    B   295    P         7099.0  \n",
      "\n",
      "[74 rows x 19 columns]\n"
     ]
    }
   ],
   "source": [
    "vip_passengers = test[test['VIP'] == True]\n",
    "print(vip_passengers)"
   ]
  },
  {
   "cell_type": "code",
   "execution_count": 85,
   "id": "b66aa300",
   "metadata": {},
   "outputs": [
    {
     "data": {
      "image/png": "[encoded data removed]",
      "text/plain": [
       "<Figure size 800x600 with 1 Axes>"
      ]
     },
     "metadata": {},
     "output_type": "display_data"
    }
   ],
   "source": [
    "# Create a count plot for 'CryoSleep' among VIP passengers\n",
    "plt.figure(figsize=(8, 6))\n",
    "sns.countplot(x='CryoSleep', data=train[train['VIP'] == True])\n",
    "plt.title('CryoSleep Status of VIP Passengers')\n",
    "plt.xlabel('CryoSleep')\n",
    "plt.ylabel('Count')\n",
    "plt.xticks(ticks=[0, 1], labels=['Not Sleeping', 'Sleeping'])\n",
    "plt.show()"
   ]
  },
  {
   "cell_type": "code",
   "execution_count": 86,
   "id": "9092eba3",
   "metadata": {},
   "outputs": [
    {
     "name": "stdout",
     "output_type": "stream",
     "text": [
      "     PassengerId HomePlanet  CryoSleep     Cabin    Destination   Age  VIP  \\\n",
      "38       0036_01      Earth      False     F/8/S    55 Cancri e  15.0  NaN   \n",
      "102      0108_03      Earth       True    G/19/S    TRAPPIST-1e   0.0  NaN   \n",
      "145      0165_01       Mars       True    F/37/P    TRAPPIST-1e  35.0  NaN   \n",
      "228      0244_02       Mars       True    F/47/S    55 Cancri e  14.0  NaN   \n",
      "566      0593_01       Mars      False    D/24/P    TRAPPIST-1e  31.0  NaN   \n",
      "...          ...        ...        ...       ...            ...   ...  ...   \n",
      "8494     9074_01      Earth       True  G/1460/S    TRAPPIST-1e   0.0  NaN   \n",
      "8512     9081_06      Earth      False  F/1858/P  PSO J318.5-22  16.0  NaN   \n",
      "8542     9122_01      Earth       True  G/1469/S    55 Cancri e  55.0  NaN   \n",
      "8630     9205_03     Europa       True   B/300/P    TRAPPIST-1e  52.0  NaN   \n",
      "8666     9248_01     Europa      False  F/1792/S    55 Cancri e  38.0  NaN   \n",
      "\n",
      "      RoomService  FoodCourt  ShoppingMall    Spa  VRDeck               Name  \\\n",
      "38            0.0      492.0          48.0   20.0   401.0     Marina Leodger   \n",
      "102           0.0        0.0           0.0    0.0     0.0    Oline Handertiz   \n",
      "145           0.0        0.0           0.0    0.0     0.0       Graven Anche   \n",
      "228           0.0        0.0           0.0    0.0     0.0           Tous Sad   \n",
      "566          43.0      152.0         182.0    1.0  2005.0            Hon Kra   \n",
      "...           ...        ...           ...    ...     ...                ...   \n",
      "8494          0.0        0.0           NaN    0.0     0.0     Adamie Trerady   \n",
      "8512          0.0        0.0         761.0    0.0     0.0  Daryla Clemondsey   \n",
      "8542          0.0        0.0           0.0    0.0     0.0   Paulas Schmondez   \n",
      "8630          0.0        0.0           0.0    0.0     0.0    Propent Brakeng   \n",
      "8666         28.0     1208.0         973.0  207.0     0.0         Gian Perle   \n",
      "\n",
      "      Transported Deck   Num Side Group NoOfPassengers  Leisure_Total  \n",
      "38          False    F     8    S  0036             01          961.0  \n",
      "102          True    G    19    S  0108             03            0.0  \n",
      "145          True    F    37    P  0165             01            0.0  \n",
      "228          True    F    47    S  0244             02            0.0  \n",
      "566         False    D    24    P  0593             01         2383.0  \n",
      "...           ...  ...   ...  ...   ...            ...            ...  \n",
      "8494         True    G  1460    S  9074             01            0.0  \n",
      "8512        False    F  1858    P  9081             06          761.0  \n",
      "8542        False    G  1469    S  9122             01            0.0  \n",
      "8630         True    B   300    P  9205             03            0.0  \n",
      "8666         True    F  1792    S  9248             01         2416.0  \n",
      "\n",
      "[203 rows x 20 columns]\n"
     ]
    }
   ],
   "source": [
    "nan_vip_rows = train[train['VIP'].isna()]\n",
    "print(nan_vip_rows)"
   ]
  },
  {
   "cell_type": "code",
   "execution_count": 87,
   "id": "b75f77ce",
   "metadata": {},
   "outputs": [
    {
     "name": "stdout",
     "output_type": "stream",
     "text": [
      "     PassengerId HomePlanet  CryoSleep     Cabin  Destination   Age  VIP  \\\n",
      "42       0100_01      Earth      False    G/13/P  TRAPPIST-1e  29.0  NaN   \n",
      "93       0209_01     Europa      False    B/10/P  TRAPPIST-1e  36.0  NaN   \n",
      "101      0228_02     Europa      False     B/4/S  55 Cancri e  39.0  NaN   \n",
      "148      0325_01      Earth      False    G/54/P  TRAPPIST-1e  48.0  NaN   \n",
      "150      0329_01     Europa       True    B/14/P  55 Cancri e  33.0  NaN   \n",
      "...          ...        ...        ...       ...          ...   ...  ...   \n",
      "4077     8875_02     Europa      False   C/330/S  TRAPPIST-1e  32.0  NaN   \n",
      "4087     8895_01     Europa       True   C/294/P  TRAPPIST-1e  39.0  NaN   \n",
      "4176     9058_01       Mars      False       NaN  TRAPPIST-1e  38.0  NaN   \n",
      "4250     9228_01      Earth      False  F/1887/P  TRAPPIST-1e  21.0  NaN   \n",
      "4267     9260_01      Earth       True  G/1503/P  55 Cancri e   3.0  NaN   \n",
      "\n",
      "      RoomService  FoodCourt  ShoppingMall      Spa  VRDeck  \\\n",
      "42            0.0       17.0         997.0      0.0     0.0   \n",
      "93           33.0        NaN           0.0  12767.0  1193.0   \n",
      "101           0.0    25273.0           0.0     13.0  1714.0   \n",
      "148           NaN      755.0           0.0      0.0     0.0   \n",
      "150           0.0        0.0           0.0      0.0     0.0   \n",
      "...           ...        ...           ...      ...     ...   \n",
      "4077         26.0     1708.0           0.0   3993.0   481.0   \n",
      "4087          0.0        0.0           0.0      0.0     0.0   \n",
      "4176        784.0        0.0          42.0     38.0    10.0   \n",
      "4250        640.0        0.0          21.0      0.0    76.0   \n",
      "4267          0.0        0.0           0.0      0.0     0.0   \n",
      "\n",
      "                    Name Group NoOfPassengers Deck   Num Side  Leisure_Total  \n",
      "42       Dary Cochrisons  0100             01    G    13    P         1014.0  \n",
      "93        Grasath Clindy  0209             01    B    10    P        13993.0  \n",
      "101      Zedark Asharing  0228             02    B     4    S        27000.0  \n",
      "148   Searla Mccarveymon  0325             01    G    54    P          755.0  \n",
      "150       Iononus Rewmid  0329             01    B    14    P            0.0  \n",
      "...                  ...   ...            ...  ...   ...  ...            ...  \n",
      "4077      Alar Oillicaly  8875             02    C   330    S         6208.0  \n",
      "4087      Astrak Hossive  8895             01    C   294    P            0.0  \n",
      "4176         Hammet Muff  9058             01  NaN   NaN  NaN          874.0  \n",
      "4250   Davis Bulliamoses  9228             01    F  1887    P          737.0  \n",
      "4267   Luisy Portananney  9260             01    G  1503    P            0.0  \n",
      "\n",
      "[93 rows x 19 columns]\n"
     ]
    }
   ],
   "source": [
    "nan_vip_rows = test[test['VIP'].isna()]\n",
    "print(nan_vip_rows)"
   ]
  },
  {
   "cell_type": "code",
   "execution_count": 88,
   "id": "e9574403",
   "metadata": {},
   "outputs": [
    {
     "data": {
      "image/png": "[encoded data removed]",
      "text/plain": [
       "<Figure size 1200x600 with 1 Axes>"
      ]
     },
     "metadata": {},
     "output_type": "display_data"
    }
   ],
   "source": [
    "# Filter the DataFrame to get only VIP passengers\n",
    "vip_passengers = train[train['VIP'] == True]\n",
    "\n",
    "# Create a countplot for 'HomePlanet' of VIP passengers\n",
    "plt.figure(figsize=(12, 6))\n",
    "sns.countplot(x='HomePlanet', data=vip_passengers, order=vip_passengers['HomePlanet'].value_counts().index)\n",
    "plt.xticks(rotation=90)  # Rotate x-axis labels for better readability\n",
    "plt.xlabel('HomePlanet')\n",
    "plt.ylabel('Count')\n",
    "plt.title('HomePlanet Distribution of VIP Passengers')\n",
    "plt.show()\n"
   ]
  },
  {
   "cell_type": "code",
   "execution_count": 89,
   "id": "76ce16f1",
   "metadata": {},
   "outputs": [
    {
     "name": "stdout",
     "output_type": "stream",
     "text": [
      "Mean Age of VIP Passengers: 37.42\n",
      "Median Age of VIP Passengers: 34.00\n"
     ]
    }
   ],
   "source": [
    "# Filter the DataFrame to get only VIP passengers\n",
    "vip_passengers = train[train['VIP'] == True]\n",
    "\n",
    "# Calculate the mean and median age of VIP passengers\n",
    "mean_age_vip = vip_passengers['Age'].mean()\n",
    "median_age_vip = vip_passengers['Age'].median()\n",
    "\n",
    "print(f\"Mean Age of VIP Passengers: {mean_age_vip:.2f}\")\n",
    "print(f\"Median Age of VIP Passengers: {median_age_vip:.2f}\")"
   ]
  },
  {
   "cell_type": "code",
   "execution_count": 90,
   "id": "4bc95d23",
   "metadata": {},
   "outputs": [
    {
     "name": "stdout",
     "output_type": "stream",
     "text": [
      "Mean Age of VIP Passengers: 34.46\n",
      "Median Age of VIP Passengers: 32.00\n"
     ]
    }
   ],
   "source": [
    "# Filter the DataFrame to get only VIP passengers\n",
    "vip_passengers = test[test['VIP'] == True]\n",
    "\n",
    "# Calculate the mean and median age of VIP passengers\n",
    "mean_age_vip = vip_passengers['Age'].mean()\n",
    "median_age_vip = vip_passengers['Age'].median()\n",
    "\n",
    "print(f\"Mean Age of VIP Passengers: {mean_age_vip:.2f}\")\n",
    "print(f\"Median Age of VIP Passengers: {median_age_vip:.2f}\")"
   ]
  },
  {
   "cell_type": "code",
   "execution_count": 91,
   "id": "6a62d8da",
   "metadata": {},
   "outputs": [],
   "source": [
    "# Calculate the median age of VIP passengers\n",
    "median_age_vip = train[train['VIP'] == True]['Age'].median()\n",
    "\n",
    "# Define conditions for filling NaN in 'VIP'\n",
    "conditions = (\n",
    "    (train['Destination'].isin(['TRAPPIST-1e', '55 Cancri e'])) &\n",
    "    (train['Age'] >= median_age_vip) &\n",
    "    (train['Leisure_Total'] > 1000)\n",
    ")\n",
    "\n",
    "# Fill NaN in 'VIP' based on the conditions for rows with NaN values\n",
    "train.loc[train['VIP'].isna() & conditions, 'VIP'] = True\n"
   ]
  },
  {
   "cell_type": "code",
   "execution_count": 92,
   "id": "fb5c7e58",
   "metadata": {},
   "outputs": [],
   "source": [
    "# Calculate the median age of VIP passengers\n",
    "median_age_vip = test[test['VIP'] == True]['Age'].median()\n",
    "\n",
    "# Define conditions for filling NaN in 'VIP'\n",
    "conditions = (\n",
    "    (test['Destination'].isin(['TRAPPIST-1e', '55 Cancri e'])) &\n",
    "    (test['Age'] >= median_age_vip) &\n",
    "    (test['Leisure_Total'] > 1000)\n",
    ")\n",
    "\n",
    "# Fill NaN in 'VIP' based on the conditions for rows with NaN values\n",
    "test.loc[test['VIP'].isna() & conditions, 'VIP'] = True"
   ]
  },
  {
   "cell_type": "code",
   "execution_count": 93,
   "id": "6f789d7c",
   "metadata": {},
   "outputs": [
    {
     "data": {
      "text/plain": [
       "PassengerId         0\n",
       "HomePlanet          0\n",
       "CryoSleep           0\n",
       "Cabin             199\n",
       "Destination         0\n",
       "Age                 0\n",
       "VIP               179\n",
       "RoomService       181\n",
       "FoodCourt         183\n",
       "ShoppingMall      208\n",
       "Spa               183\n",
       "VRDeck            188\n",
       "Name              200\n",
       "Transported         0\n",
       "Deck              199\n",
       "Num               199\n",
       "Side              199\n",
       "Group               0\n",
       "NoOfPassengers      0\n",
       "Leisure_Total       0\n",
       "dtype: int64"
      ]
     },
     "execution_count": 93,
     "metadata": {},
     "output_type": "execute_result"
    }
   ],
   "source": [
    "train.isna().sum()"
   ]
  },
  {
   "cell_type": "code",
   "execution_count": 94,
   "id": "151f43d7",
   "metadata": {},
   "outputs": [
    {
     "data": {
      "text/plain": [
       "VIP\n",
       "False    8291\n",
       "True      223\n",
       "Name: count, dtype: int64"
      ]
     },
     "execution_count": 94,
     "metadata": {},
     "output_type": "execute_result"
    }
   ],
   "source": [
    "train.VIP.value_counts()"
   ]
  },
  {
   "cell_type": "code",
   "execution_count": 95,
   "id": "0180c56f",
   "metadata": {},
   "outputs": [],
   "source": [
    "# Fill remaining NaN values in 'VIP' with False\n",
    "train['VIP'].fillna(False, inplace=True)"
   ]
  },
  {
   "cell_type": "code",
   "execution_count": 96,
   "id": "ac038199",
   "metadata": {},
   "outputs": [],
   "source": [
    "# Fill remaining NaN values in 'VIP' with False\n",
    "test['VIP'].fillna(False, inplace=True)"
   ]
  },
  {
   "cell_type": "code",
   "execution_count": 97,
   "id": "93c7d387",
   "metadata": {},
   "outputs": [
    {
     "data": {
      "text/plain": [
       "VIP\n",
       "False    8470\n",
       "True      223\n",
       "Name: count, dtype: int64"
      ]
     },
     "execution_count": 97,
     "metadata": {},
     "output_type": "execute_result"
    }
   ],
   "source": [
    "train.VIP.value_counts()"
   ]
  },
  {
   "cell_type": "code",
   "execution_count": 98,
   "id": "223a92d5",
   "metadata": {},
   "outputs": [
    {
     "data": {
      "text/plain": [
       "PassengerId         0\n",
       "HomePlanet          0\n",
       "CryoSleep           0\n",
       "Cabin             199\n",
       "Destination         0\n",
       "Age                 0\n",
       "VIP                 0\n",
       "RoomService       181\n",
       "FoodCourt         183\n",
       "ShoppingMall      208\n",
       "Spa               183\n",
       "VRDeck            188\n",
       "Name              200\n",
       "Transported         0\n",
       "Deck              199\n",
       "Num               199\n",
       "Side              199\n",
       "Group               0\n",
       "NoOfPassengers      0\n",
       "Leisure_Total       0\n",
       "dtype: int64"
      ]
     },
     "execution_count": 98,
     "metadata": {},
     "output_type": "execute_result"
    }
   ],
   "source": [
    "train.isna().sum()"
   ]
  },
  {
   "cell_type": "code",
   "execution_count": 99,
   "id": "bfd28c33",
   "metadata": {},
   "outputs": [
    {
     "name": "stdout",
     "output_type": "stream",
     "text": [
      "NaN values in 'Deck' column:\n",
      "     PassengerId HomePlanet  CryoSleep Cabin  Destination   Age    VIP  \\\n",
      "15       0012_01      Earth      False   NaN  TRAPPIST-1e  31.0  False   \n",
      "93       0101_01       Mars       True   NaN  TRAPPIST-1e  31.0  False   \n",
      "103      0110_01     Europa      False   NaN  TRAPPIST-1e  32.0  False   \n",
      "222      0239_01       Mars      False   NaN  TRAPPIST-1e  37.0  False   \n",
      "227      0244_01       Mars       True   NaN  TRAPPIST-1e  43.0  False   \n",
      "...          ...        ...        ...   ...          ...   ...    ...   \n",
      "8209     8772_02     Europa      False   NaN  55 Cancri e  53.0  False   \n",
      "8475     9057_01     Europa      False   NaN  55 Cancri e  36.0   True   \n",
      "8485     9069_03     Europa       True   NaN  55 Cancri e  25.0  False   \n",
      "8509     9081_03      Earth       True   NaN  TRAPPIST-1e   1.0  False   \n",
      "8656     9233_01      Earth      False   NaN  TRAPPIST-1e  41.0  False   \n",
      "\n",
      "      RoomService  FoodCourt  ShoppingMall     Spa  VRDeck               Name  \\\n",
      "15           32.0        0.0         876.0     0.0     0.0      Justie Pooles   \n",
      "93            0.0        0.0           0.0     0.0     0.0          Book Trad   \n",
      "103           0.0      410.0           6.0  3929.0   764.0  Graviph Aloubtled   \n",
      "222         637.0        0.0           0.0    92.0   319.0       Diedow Resty   \n",
      "227           0.0        0.0           0.0     0.0     0.0          Froos Sad   \n",
      "...           ...        ...           ...     ...     ...                ...   \n",
      "8209          0.0     1127.0           0.0  3939.0     NaN     Naosura Motled   \n",
      "8475        132.0     3479.0           0.0  3786.0     0.0       Coxan Statch   \n",
      "8485          0.0        0.0           0.0     0.0     0.0       Bath Brakeng   \n",
      "8509          0.0        0.0           0.0     0.0     0.0   Beula Clemondsey   \n",
      "8656          3.0        0.0         668.0     0.0     0.0       Royce Giller   \n",
      "\n",
      "      Transported Deck  Num Side Group NoOfPassengers  Leisure_Total  \n",
      "15          False  NaN  NaN  NaN  0012             01          908.0  \n",
      "93           True  NaN  NaN  NaN  0101             01            0.0  \n",
      "103         False  NaN  NaN  NaN  0110             01         5109.0  \n",
      "222         False  NaN  NaN  NaN  0239             01         1048.0  \n",
      "227          True  NaN  NaN  NaN  0244             01            0.0  \n",
      "...           ...  ...  ...  ...   ...            ...            ...  \n",
      "8209        False  NaN  NaN  NaN  8772             02         5066.0  \n",
      "8475        False  NaN  NaN  NaN  9057             01         7397.0  \n",
      "8485         True  NaN  NaN  NaN  9069             03            0.0  \n",
      "8509        False  NaN  NaN  NaN  9081             03            0.0  \n",
      "8656         True  NaN  NaN  NaN  9233             01          671.0  \n",
      "\n",
      "[199 rows x 20 columns]\n",
      "\n",
      "NaN values in 'Num' column:\n",
      "     PassengerId HomePlanet  CryoSleep Cabin  Destination   Age    VIP  \\\n",
      "15       0012_01      Earth      False   NaN  TRAPPIST-1e  31.0  False   \n",
      "93       0101_01       Mars       True   NaN  TRAPPIST-1e  31.0  False   \n",
      "103      0110_01     Europa      False   NaN  TRAPPIST-1e  32.0  False   \n",
      "222      0239_01       Mars      False   NaN  TRAPPIST-1e  37.0  False   \n",
      "227      0244_01       Mars       True   NaN  TRAPPIST-1e  43.0  False   \n",
      "...          ...        ...        ...   ...          ...   ...    ...   \n",
      "8209     8772_02     Europa      False   NaN  55 Cancri e  53.0  False   \n",
      "8475     9057_01     Europa      False   NaN  55 Cancri e  36.0   True   \n",
      "8485     9069_03     Europa       True   NaN  55 Cancri e  25.0  False   \n",
      "8509     9081_03      Earth       True   NaN  TRAPPIST-1e   1.0  False   \n",
      "8656     9233_01      Earth      False   NaN  TRAPPIST-1e  41.0  False   \n",
      "\n",
      "      RoomService  FoodCourt  ShoppingMall     Spa  VRDeck               Name  \\\n",
      "15           32.0        0.0         876.0     0.0     0.0      Justie Pooles   \n",
      "93            0.0        0.0           0.0     0.0     0.0          Book Trad   \n",
      "103           0.0      410.0           6.0  3929.0   764.0  Graviph Aloubtled   \n",
      "222         637.0        0.0           0.0    92.0   319.0       Diedow Resty   \n",
      "227           0.0        0.0           0.0     0.0     0.0          Froos Sad   \n",
      "...           ...        ...           ...     ...     ...                ...   \n",
      "8209          0.0     1127.0           0.0  3939.0     NaN     Naosura Motled   \n",
      "8475        132.0     3479.0           0.0  3786.0     0.0       Coxan Statch   \n",
      "8485          0.0        0.0           0.0     0.0     0.0       Bath Brakeng   \n",
      "8509          0.0        0.0           0.0     0.0     0.0   Beula Clemondsey   \n",
      "8656          3.0        0.0         668.0     0.0     0.0       Royce Giller   \n",
      "\n",
      "      Transported Deck  Num Side Group NoOfPassengers  Leisure_Total  \n",
      "15          False  NaN  NaN  NaN  0012             01          908.0  \n",
      "93           True  NaN  NaN  NaN  0101             01            0.0  \n",
      "103         False  NaN  NaN  NaN  0110             01         5109.0  \n",
      "222         False  NaN  NaN  NaN  0239             01         1048.0  \n",
      "227          True  NaN  NaN  NaN  0244             01            0.0  \n",
      "...           ...  ...  ...  ...   ...            ...            ...  \n",
      "8209        False  NaN  NaN  NaN  8772             02         5066.0  \n",
      "8475        False  NaN  NaN  NaN  9057             01         7397.0  \n",
      "8485         True  NaN  NaN  NaN  9069             03            0.0  \n",
      "8509        False  NaN  NaN  NaN  9081             03            0.0  \n",
      "8656         True  NaN  NaN  NaN  9233             01          671.0  \n",
      "\n",
      "[199 rows x 20 columns]\n",
      "\n",
      "NaN values in 'Side' column:\n",
      "     PassengerId HomePlanet  CryoSleep Cabin  Destination   Age    VIP  \\\n",
      "15       0012_01      Earth      False   NaN  TRAPPIST-1e  31.0  False   \n",
      "93       0101_01       Mars       True   NaN  TRAPPIST-1e  31.0  False   \n",
      "103      0110_01     Europa      False   NaN  TRAPPIST-1e  32.0  False   \n",
      "222      0239_01       Mars      False   NaN  TRAPPIST-1e  37.0  False   \n",
      "227      0244_01       Mars       True   NaN  TRAPPIST-1e  43.0  False   \n",
      "...          ...        ...        ...   ...          ...   ...    ...   \n",
      "8209     8772_02     Europa      False   NaN  55 Cancri e  53.0  False   \n",
      "8475     9057_01     Europa      False   NaN  55 Cancri e  36.0   True   \n",
      "8485     9069_03     Europa       True   NaN  55 Cancri e  25.0  False   \n",
      "8509     9081_03      Earth       True   NaN  TRAPPIST-1e   1.0  False   \n",
      "8656     9233_01      Earth      False   NaN  TRAPPIST-1e  41.0  False   \n",
      "\n",
      "      RoomService  FoodCourt  ShoppingMall     Spa  VRDeck               Name  \\\n",
      "15           32.0        0.0         876.0     0.0     0.0      Justie Pooles   \n",
      "93            0.0        0.0           0.0     0.0     0.0          Book Trad   \n",
      "103           0.0      410.0           6.0  3929.0   764.0  Graviph Aloubtled   \n",
      "222         637.0        0.0           0.0    92.0   319.0       Diedow Resty   \n",
      "227           0.0        0.0           0.0     0.0     0.0          Froos Sad   \n",
      "...           ...        ...           ...     ...     ...                ...   \n",
      "8209          0.0     1127.0           0.0  3939.0     NaN     Naosura Motled   \n",
      "8475        132.0     3479.0           0.0  3786.0     0.0       Coxan Statch   \n",
      "8485          0.0        0.0           0.0     0.0     0.0       Bath Brakeng   \n",
      "8509          0.0        0.0           0.0     0.0     0.0   Beula Clemondsey   \n",
      "8656          3.0        0.0         668.0     0.0     0.0       Royce Giller   \n",
      "\n",
      "      Transported Deck  Num Side Group NoOfPassengers  Leisure_Total  \n",
      "15          False  NaN  NaN  NaN  0012             01          908.0  \n",
      "93           True  NaN  NaN  NaN  0101             01            0.0  \n",
      "103         False  NaN  NaN  NaN  0110             01         5109.0  \n",
      "222         False  NaN  NaN  NaN  0239             01         1048.0  \n",
      "227          True  NaN  NaN  NaN  0244             01            0.0  \n",
      "...           ...  ...  ...  ...   ...            ...            ...  \n",
      "8209        False  NaN  NaN  NaN  8772             02         5066.0  \n",
      "8475        False  NaN  NaN  NaN  9057             01         7397.0  \n",
      "8485         True  NaN  NaN  NaN  9069             03            0.0  \n",
      "8509        False  NaN  NaN  NaN  9081             03            0.0  \n",
      "8656         True  NaN  NaN  NaN  9233             01          671.0  \n",
      "\n",
      "[199 rows x 20 columns]\n"
     ]
    }
   ],
   "source": [
    "nan_values_deck = train[train['Deck'].isna()]\n",
    "nan_values_num = train[train['Num'].isna()]\n",
    "nan_values_side = train[train['Side'].isna()]\n",
    "\n",
    "print(\"NaN values in 'Deck' column:\")\n",
    "print(nan_values_deck)\n",
    "\n",
    "print(\"\\nNaN values in 'Num' column:\")\n",
    "print(nan_values_num)\n",
    "\n",
    "print(\"\\nNaN values in 'Side' column:\")\n",
    "print(nan_values_side)\n"
   ]
  },
  {
   "cell_type": "code",
   "execution_count": 100,
   "id": "bd20ee0b",
   "metadata": {},
   "outputs": [
    {
     "name": "stdout",
     "output_type": "stream",
     "text": [
      "        RoomService   FoodCourt  ShoppingMall         Spa      VRDeck\n",
      "mean     224.687617  458.077203    173.729169  311.138778  304.854791\n",
      "median     0.000000    0.000000      0.000000    0.000000    0.000000\n"
     ]
    }
   ],
   "source": [
    "# Calculate mean and median for each amenity\n",
    "amenity_stats = train[['RoomService', 'FoodCourt', 'ShoppingMall', 'Spa', 'VRDeck']].agg(['mean', 'median'])\n",
    "\n",
    "# Print the mean and median values\n",
    "print(amenity_stats)"
   ]
  },
  {
   "cell_type": "code",
   "execution_count": 101,
   "id": "ff48f84d",
   "metadata": {},
   "outputs": [
    {
     "name": "stdout",
     "output_type": "stream",
     "text": [
      "        RoomService   FoodCourt  ShoppingMall         Spa      VRDeck\n",
      "mean     219.266269  439.484296    177.295525  303.052443  310.710031\n",
      "median     0.000000    0.000000      0.000000    0.000000    0.000000\n"
     ]
    }
   ],
   "source": [
    "# Calculate mean and median for each amenity\n",
    "amenity_stats = test[['RoomService', 'FoodCourt', 'ShoppingMall', 'Spa', 'VRDeck']].agg(['mean', 'median'])\n",
    "\n",
    "# Print the mean and median values\n",
    "print(amenity_stats)"
   ]
  },
  {
   "cell_type": "code",
   "execution_count": 102,
   "id": "615d8d6c",
   "metadata": {},
   "outputs": [
    {
     "name": "stdout",
     "output_type": "stream",
     "text": [
      "RoomService     0\n",
      "FoodCourt       0\n",
      "ShoppingMall    0\n",
      "Spa             0\n",
      "VRDeck          0\n",
      "dtype: int64\n"
     ]
    }
   ],
   "source": [
    "# Calculate the median and mean for each column\n",
    "median_values = train[['RoomService', 'FoodCourt', 'ShoppingMall', 'Spa', 'VRDeck']].median()\n",
    "mean_values = train[['RoomService', 'FoodCourt', 'ShoppingMall', 'Spa', 'VRDeck']].mean()\n",
    "\n",
    "# Iterate through each column and fill NaN values based on 'CryoSleep'\n",
    "for column in ['RoomService', 'FoodCourt', 'ShoppingMall', 'Spa', 'VRDeck']:\n",
    "    conditions = train['CryoSleep'] == True\n",
    "    train[column].fillna(median_values[column], inplace=True)  # Fill with median if CryoSleep is True\n",
    "    train[column].fillna(round(mean_values[column]), inplace=True)  # Fill with rounded mean if CryoSleep is False\n",
    "\n",
    "# Check if there are any remaining NaN values\n",
    "remaining_nan_values = train[['RoomService', 'FoodCourt', 'ShoppingMall', 'Spa', 'VRDeck']].isna().sum()\n",
    "print(remaining_nan_values)"
   ]
  },
  {
   "cell_type": "code",
   "execution_count": 103,
   "id": "34386b11",
   "metadata": {},
   "outputs": [
    {
     "name": "stdout",
     "output_type": "stream",
     "text": [
      "RoomService     0\n",
      "FoodCourt       0\n",
      "ShoppingMall    0\n",
      "Spa             0\n",
      "VRDeck          0\n",
      "dtype: int64\n"
     ]
    }
   ],
   "source": [
    "# Calculate the median and mean for each column\n",
    "median_values = test[['RoomService', 'FoodCourt', 'ShoppingMall', 'Spa', 'VRDeck']].median()\n",
    "mean_values = test[['RoomService', 'FoodCourt', 'ShoppingMall', 'Spa', 'VRDeck']].mean()\n",
    "\n",
    "# Iterate through each column and fill NaN values based on 'CryoSleep'\n",
    "for column in ['RoomService', 'FoodCourt', 'ShoppingMall', 'Spa', 'VRDeck']:\n",
    "    conditions = test['CryoSleep'] == True\n",
    "    test[column].fillna(median_values[column], inplace=True)  # Fill with median if CryoSleep is True\n",
    "    test[column].fillna(round(mean_values[column]), inplace=True)  # Fill with rounded mean if CryoSleep is False\n",
    "\n",
    "# Check if there are any remaining NaN values\n",
    "remaining_nan_values = test[['RoomService', 'FoodCourt', 'ShoppingMall', 'Spa', 'VRDeck']].isna().sum()\n",
    "print(remaining_nan_values)"
   ]
  },
  {
   "cell_type": "code",
   "execution_count": 104,
   "id": "6ecafb84",
   "metadata": {},
   "outputs": [
    {
     "name": "stdout",
     "output_type": "stream",
     "text": [
      "    Group  NoOfPassengers  CabinNumbers\n",
      "0    0012               1           nan\n",
      "1    5105               1           nan\n",
      "2    5303               1  nan, G/857/P\n",
      "3    5436               1           nan\n",
      "4    5474               1           nan\n",
      "..    ...             ...           ...\n",
      "194  2497               1           nan\n",
      "195  2513               1           nan\n",
      "196  2547               1   nan, A/20/P\n",
      "197  2559               1           nan\n",
      "198  9233               1           nan\n",
      "\n",
      "[199 rows x 3 columns]\n"
     ]
    }
   ],
   "source": [
    "# Filter rows with NaN cabin numbers\n",
    "nan_cabin_groups = train[train['Cabin'].isna()]\n",
    "\n",
    "# Find the number of passengers in each group\n",
    "nan_cabin_groups = nan_cabin_groups['Group'].value_counts().reset_index()\n",
    "nan_cabin_groups.columns = ['Group', 'NoOfPassengers']\n",
    "\n",
    "# Initialize an empty list to store cabin numbers\n",
    "cabin_numbers = []\n",
    "\n",
    "# Iterate through each group to find unique cabin numbers\n",
    "for group in nan_cabin_groups['Group']:\n",
    "    cabin_numbers_group = train[train['Group'] == group]['Cabin'].unique()\n",
    "    # Convert cabin numbers to strings and join them\n",
    "    cabin_numbers.append(', '.join(map(str, cabin_numbers_group)))\n",
    "\n",
    "# Add the cabin numbers to the DataFrame\n",
    "nan_cabin_groups['CabinNumbers'] = cabin_numbers\n",
    "\n",
    "print(nan_cabin_groups)"
   ]
  },
  {
   "cell_type": "code",
   "execution_count": 105,
   "id": "f914501f",
   "metadata": {},
   "outputs": [
    {
     "data": {
      "text/plain": [
       "Index(['PassengerId', 'HomePlanet', 'CryoSleep', 'Cabin', 'Destination', 'Age',\n",
       "       'VIP', 'RoomService', 'FoodCourt', 'ShoppingMall', 'Spa', 'VRDeck',\n",
       "       'Name', 'Transported', 'Deck', 'Num', 'Side', 'Group', 'NoOfPassengers',\n",
       "       'Leisure_Total'],\n",
       "      dtype='object')"
      ]
     },
     "execution_count": 105,
     "metadata": {},
     "output_type": "execute_result"
    }
   ],
   "source": [
    "train.columns"
   ]
  },
  {
   "cell_type": "code",
   "execution_count": 106,
   "id": "56592777",
   "metadata": {},
   "outputs": [],
   "source": [
    "train.drop(['PassengerId','Cabin','Name'],axis=1,inplace=True) #'Num','NoOfPassengers'"
   ]
  },
  {
   "cell_type": "code",
   "execution_count": 107,
   "id": "810928a8",
   "metadata": {},
   "outputs": [],
   "source": [
    "test.drop(['PassengerId','Cabin','Name'],axis=1,inplace=True) #'Num','NoOfPassengers'"
   ]
  },
  {
   "cell_type": "code",
   "execution_count": 108,
   "id": "fffdc289",
   "metadata": {},
   "outputs": [
    {
     "data": {
      "text/html": [
       "<div>\n",
       "<style scoped>\n",
       "    .dataframe tbody tr th:only-of-type {\n",
       "        vertical-align: middle;\n",
       "    }\n",
       "\n",
       "    .dataframe tbody tr th {\n",
       "        vertical-align: top;\n",
       "    }\n",
       "\n",
       "    .dataframe thead th {\n",
       "        text-align: right;\n",
       "    }\n",
       "</style>\n",
       "<table border=\"1\" class=\"dataframe\">\n",
       "  <thead>\n",
       "    <tr style=\"text-align: right;\">\n",
       "      <th></th>\n",
       "      <th>HomePlanet</th>\n",
       "      <th>CryoSleep</th>\n",
       "      <th>Destination</th>\n",
       "      <th>Age</th>\n",
       "      <th>VIP</th>\n",
       "      <th>RoomService</th>\n",
       "      <th>FoodCourt</th>\n",
       "      <th>ShoppingMall</th>\n",
       "      <th>Spa</th>\n",
       "      <th>VRDeck</th>\n",
       "      <th>Group</th>\n",
       "      <th>NoOfPassengers</th>\n",
       "      <th>Deck</th>\n",
       "      <th>Num</th>\n",
       "      <th>Side</th>\n",
       "      <th>Leisure_Total</th>\n",
       "    </tr>\n",
       "  </thead>\n",
       "  <tbody>\n",
       "    <tr>\n",
       "      <th>0</th>\n",
       "      <td>Earth</td>\n",
       "      <td>True</td>\n",
       "      <td>TRAPPIST-1e</td>\n",
       "      <td>27.0</td>\n",
       "      <td>False</td>\n",
       "      <td>0.0</td>\n",
       "      <td>0.0</td>\n",
       "      <td>0.0</td>\n",
       "      <td>0.0</td>\n",
       "      <td>0.0</td>\n",
       "      <td>0013</td>\n",
       "      <td>01</td>\n",
       "      <td>G</td>\n",
       "      <td>3</td>\n",
       "      <td>S</td>\n",
       "      <td>0.0</td>\n",
       "    </tr>\n",
       "    <tr>\n",
       "      <th>1</th>\n",
       "      <td>Earth</td>\n",
       "      <td>False</td>\n",
       "      <td>TRAPPIST-1e</td>\n",
       "      <td>19.0</td>\n",
       "      <td>False</td>\n",
       "      <td>0.0</td>\n",
       "      <td>9.0</td>\n",
       "      <td>0.0</td>\n",
       "      <td>2823.0</td>\n",
       "      <td>0.0</td>\n",
       "      <td>0018</td>\n",
       "      <td>01</td>\n",
       "      <td>F</td>\n",
       "      <td>4</td>\n",
       "      <td>S</td>\n",
       "      <td>2832.0</td>\n",
       "    </tr>\n",
       "    <tr>\n",
       "      <th>2</th>\n",
       "      <td>Europa</td>\n",
       "      <td>True</td>\n",
       "      <td>55 Cancri e</td>\n",
       "      <td>31.0</td>\n",
       "      <td>False</td>\n",
       "      <td>0.0</td>\n",
       "      <td>0.0</td>\n",
       "      <td>0.0</td>\n",
       "      <td>0.0</td>\n",
       "      <td>0.0</td>\n",
       "      <td>0019</td>\n",
       "      <td>01</td>\n",
       "      <td>C</td>\n",
       "      <td>0</td>\n",
       "      <td>S</td>\n",
       "      <td>0.0</td>\n",
       "    </tr>\n",
       "    <tr>\n",
       "      <th>3</th>\n",
       "      <td>Europa</td>\n",
       "      <td>False</td>\n",
       "      <td>TRAPPIST-1e</td>\n",
       "      <td>38.0</td>\n",
       "      <td>False</td>\n",
       "      <td>0.0</td>\n",
       "      <td>6652.0</td>\n",
       "      <td>0.0</td>\n",
       "      <td>181.0</td>\n",
       "      <td>585.0</td>\n",
       "      <td>0021</td>\n",
       "      <td>01</td>\n",
       "      <td>C</td>\n",
       "      <td>1</td>\n",
       "      <td>S</td>\n",
       "      <td>7418.0</td>\n",
       "    </tr>\n",
       "    <tr>\n",
       "      <th>4</th>\n",
       "      <td>Earth</td>\n",
       "      <td>False</td>\n",
       "      <td>TRAPPIST-1e</td>\n",
       "      <td>20.0</td>\n",
       "      <td>False</td>\n",
       "      <td>10.0</td>\n",
       "      <td>0.0</td>\n",
       "      <td>635.0</td>\n",
       "      <td>0.0</td>\n",
       "      <td>0.0</td>\n",
       "      <td>0023</td>\n",
       "      <td>01</td>\n",
       "      <td>F</td>\n",
       "      <td>5</td>\n",
       "      <td>S</td>\n",
       "      <td>645.0</td>\n",
       "    </tr>\n",
       "  </tbody>\n",
       "</table>\n",
       "</div>"
      ],
      "text/plain": [
       "  HomePlanet  CryoSleep  Destination   Age    VIP  RoomService  FoodCourt  \\\n",
       "0      Earth       True  TRAPPIST-1e  27.0  False          0.0        0.0   \n",
       "1      Earth      False  TRAPPIST-1e  19.0  False          0.0        9.0   \n",
       "2     Europa       True  55 Cancri e  31.0  False          0.0        0.0   \n",
       "3     Europa      False  TRAPPIST-1e  38.0  False          0.0     6652.0   \n",
       "4      Earth      False  TRAPPIST-1e  20.0  False         10.0        0.0   \n",
       "\n",
       "   ShoppingMall     Spa  VRDeck Group NoOfPassengers Deck Num Side  \\\n",
       "0           0.0     0.0     0.0  0013             01    G   3    S   \n",
       "1           0.0  2823.0     0.0  0018             01    F   4    S   \n",
       "2           0.0     0.0     0.0  0019             01    C   0    S   \n",
       "3           0.0   181.0   585.0  0021             01    C   1    S   \n",
       "4         635.0     0.0     0.0  0023             01    F   5    S   \n",
       "\n",
       "   Leisure_Total  \n",
       "0            0.0  \n",
       "1         2832.0  \n",
       "2            0.0  \n",
       "3         7418.0  \n",
       "4          645.0  "
      ]
     },
     "execution_count": 108,
     "metadata": {},
     "output_type": "execute_result"
    }
   ],
   "source": [
    "test.head()"
   ]
  },
  {
   "cell_type": "code",
   "execution_count": 109,
   "id": "ba545186",
   "metadata": {},
   "outputs": [
    {
     "name": "stdout",
     "output_type": "stream",
     "text": [
      "<class 'pandas.core.frame.DataFrame'>\n",
      "RangeIndex: 4277 entries, 0 to 4276\n",
      "Data columns (total 16 columns):\n",
      " #   Column          Non-Null Count  Dtype  \n",
      "---  ------          --------------  -----  \n",
      " 0   HomePlanet      4277 non-null   object \n",
      " 1   CryoSleep       4277 non-null   bool   \n",
      " 2   Destination     4277 non-null   object \n",
      " 3   Age             4277 non-null   float64\n",
      " 4   VIP             4277 non-null   bool   \n",
      " 5   RoomService     4277 non-null   float64\n",
      " 6   FoodCourt       4277 non-null   float64\n",
      " 7   ShoppingMall    4277 non-null   float64\n",
      " 8   Spa             4277 non-null   float64\n",
      " 9   VRDeck          4277 non-null   float64\n",
      " 10  Group           4277 non-null   object \n",
      " 11  NoOfPassengers  4277 non-null   object \n",
      " 12  Deck            4177 non-null   object \n",
      " 13  Num             4177 non-null   object \n",
      " 14  Side            4177 non-null   object \n",
      " 15  Leisure_Total   4277 non-null   float64\n",
      "dtypes: bool(2), float64(7), object(7)\n",
      "memory usage: 476.3+ KB\n"
     ]
    }
   ],
   "source": [
    "test.info()"
   ]
  },
  {
   "cell_type": "code",
   "execution_count": 110,
   "id": "eafc9e97",
   "metadata": {},
   "outputs": [],
   "source": [
    "# Identify columns with boolean data type\n",
    "bool_columns = train.select_dtypes(include=['bool']).columns\n",
    "\n",
    "# Convert boolean columns to integer (0 for False, 1 for True)\n",
    "train[bool_columns] = train[bool_columns].astype(int)"
   ]
  },
  {
   "cell_type": "code",
   "execution_count": 111,
   "id": "049331d3",
   "metadata": {},
   "outputs": [],
   "source": [
    "# Identify columns with boolean data type\n",
    "bool_columns = test.select_dtypes(include=['bool']).columns\n",
    "\n",
    "# Convert boolean columns to integer (0 for False, 1 for True)\n",
    "test[bool_columns] = test[bool_columns].astype(int)"
   ]
  },
  {
   "cell_type": "code",
   "execution_count": 112,
   "id": "dbc0a479",
   "metadata": {},
   "outputs": [
    {
     "data": {
      "text/html": [
       "<div>\n",
       "<style scoped>\n",
       "    .dataframe tbody tr th:only-of-type {\n",
       "        vertical-align: middle;\n",
       "    }\n",
       "\n",
       "    .dataframe tbody tr th {\n",
       "        vertical-align: top;\n",
       "    }\n",
       "\n",
       "    .dataframe thead th {\n",
       "        text-align: right;\n",
       "    }\n",
       "</style>\n",
       "<table border=\"1\" class=\"dataframe\">\n",
       "  <thead>\n",
       "    <tr style=\"text-align: right;\">\n",
       "      <th></th>\n",
       "      <th>HomePlanet</th>\n",
       "      <th>CryoSleep</th>\n",
       "      <th>Destination</th>\n",
       "      <th>Age</th>\n",
       "      <th>VIP</th>\n",
       "      <th>RoomService</th>\n",
       "      <th>FoodCourt</th>\n",
       "      <th>ShoppingMall</th>\n",
       "      <th>Spa</th>\n",
       "      <th>VRDeck</th>\n",
       "      <th>Group</th>\n",
       "      <th>NoOfPassengers</th>\n",
       "      <th>Deck</th>\n",
       "      <th>Num</th>\n",
       "      <th>Side</th>\n",
       "      <th>Leisure_Total</th>\n",
       "    </tr>\n",
       "  </thead>\n",
       "  <tbody>\n",
       "    <tr>\n",
       "      <th>0</th>\n",
       "      <td>Earth</td>\n",
       "      <td>1</td>\n",
       "      <td>TRAPPIST-1e</td>\n",
       "      <td>27.0</td>\n",
       "      <td>0</td>\n",
       "      <td>0.0</td>\n",
       "      <td>0.0</td>\n",
       "      <td>0.0</td>\n",
       "      <td>0.0</td>\n",
       "      <td>0.0</td>\n",
       "      <td>0013</td>\n",
       "      <td>01</td>\n",
       "      <td>G</td>\n",
       "      <td>3</td>\n",
       "      <td>S</td>\n",
       "      <td>0.0</td>\n",
       "    </tr>\n",
       "  </tbody>\n",
       "</table>\n",
       "</div>"
      ],
      "text/plain": [
       "  HomePlanet  CryoSleep  Destination   Age  VIP  RoomService  FoodCourt  \\\n",
       "0      Earth          1  TRAPPIST-1e  27.0    0          0.0        0.0   \n",
       "\n",
       "   ShoppingMall  Spa  VRDeck Group NoOfPassengers Deck Num Side  Leisure_Total  \n",
       "0           0.0  0.0     0.0  0013             01    G   3    S            0.0  "
      ]
     },
     "execution_count": 112,
     "metadata": {},
     "output_type": "execute_result"
    }
   ],
   "source": [
    "test.head(1)"
   ]
  },
  {
   "cell_type": "code",
   "execution_count": 113,
   "id": "52c775b8",
   "metadata": {},
   "outputs": [],
   "source": [
    "lab_cat_cols = ['HomePlanet','Destination','Deck','Side','Group']\n",
    "\n",
    "label_encoder = LabelEncoder()\n",
    "\n",
    "for i in lab_cat_cols:\n",
    "    train[i] = label_encoder.fit_transform(train[i].astype(str))"
   ]
  },
  {
   "cell_type": "code",
   "execution_count": 114,
   "id": "a6e6fbf0",
   "metadata": {},
   "outputs": [],
   "source": [
    "lab_cat_cols = ['HomePlanet','Destination','Deck','Side','Group']\n",
    "\n",
    "label_encoder = LabelEncoder()\n",
    "\n",
    "for i in lab_cat_cols:\n",
    "    test[i] = label_encoder.fit_transform(test[i].astype(str))"
   ]
  },
  {
   "cell_type": "code",
   "execution_count": 115,
   "id": "ec184ff0",
   "metadata": {},
   "outputs": [
    {
     "name": "stdout",
     "output_type": "stream",
     "text": [
      "<class 'pandas.core.frame.DataFrame'>\n",
      "RangeIndex: 4277 entries, 0 to 4276\n",
      "Data columns (total 16 columns):\n",
      " #   Column          Non-Null Count  Dtype  \n",
      "---  ------          --------------  -----  \n",
      " 0   HomePlanet      4277 non-null   int32  \n",
      " 1   CryoSleep       4277 non-null   int32  \n",
      " 2   Destination     4277 non-null   int32  \n",
      " 3   Age             4277 non-null   float64\n",
      " 4   VIP             4277 non-null   int32  \n",
      " 5   RoomService     4277 non-null   float64\n",
      " 6   FoodCourt       4277 non-null   float64\n",
      " 7   ShoppingMall    4277 non-null   float64\n",
      " 8   Spa             4277 non-null   float64\n",
      " 9   VRDeck          4277 non-null   float64\n",
      " 10  Group           4277 non-null   int32  \n",
      " 11  NoOfPassengers  4277 non-null   object \n",
      " 12  Deck            4277 non-null   int32  \n",
      " 13  Num             4177 non-null   object \n",
      " 14  Side            4277 non-null   int32  \n",
      " 15  Leisure_Total   4277 non-null   float64\n",
      "dtypes: float64(7), int32(7), object(2)\n",
      "memory usage: 417.8+ KB\n"
     ]
    }
   ],
   "source": [
    "test.info()"
   ]
  },
  {
   "cell_type": "code",
   "execution_count": 116,
   "id": "7f34598d",
   "metadata": {},
   "outputs": [
    {
     "data": {
      "image/png": "[encoded data removed]",
      "text/plain": [
       "<Figure size 800x600 with 1 Axes>"
      ]
     },
     "metadata": {},
     "output_type": "display_data"
    },
    {
     "data": {
      "image/png": "[encoded data removed]",
      "text/plain": [
       "<Figure size 800x600 with 1 Axes>"
      ]
     },
     "metadata": {},
     "output_type": "display_data"
    },
    {
     "data": {
      "image/png": "[encoded data removed]",
      "text/plain": [
       "<Figure size 800x600 with 1 Axes>"
      ]
     },
     "metadata": {},
     "output_type": "display_data"
    },
    {
     "data": {
      "image/png": "[encoded data removed]",
      "text/plain": [
       "<Figure size 800x600 with 1 Axes>"
      ]
     },
     "metadata": {},
     "output_type": "display_data"
    },
    {
     "data": {
      "image/png": "[encoded data removed]",
      "text/plain": [
       "<Figure size 800x600 with 1 Axes>"
      ]
     },
     "metadata": {},
     "output_type": "display_data"
    },
    {
     "data": {
      "image/png": "[encoded data removed]",
      "text/plain": [
       "<Figure size 800x600 with 1 Axes>"
      ]
     },
     "metadata": {},
     "output_type": "display_data"
    }
   ],
   "source": [
    "import matplotlib.pyplot as plt\n",
    "\n",
    "# Specify the column names to visualize\n",
    "columns_to_visualize = [\"RoomService\", \"FoodCourt\", \"ShoppingMall\", \"Spa\", \"VRDeck\", \"Leisure_Total\"]\n",
    "\n",
    "# Plot histograms for each specified column\n",
    "for column in columns_to_visualize:\n",
    "    plt.figure(figsize=(8, 6))\n",
    "    plt.hist(train[column], bins=20, edgecolor='k')\n",
    "    plt.xlabel(column)\n",
    "    plt.ylabel('Frequency')\n",
    "    plt.title(f'Histogram of {column}')\n",
    "    plt.grid(axis='y', linestyle='--', alpha=0.7)\n",
    "    plt.show()"
   ]
  },
  {
   "cell_type": "code",
   "execution_count": 119,
   "id": "7f7204c2",
   "metadata": {},
   "outputs": [
    {
     "data": {
      "text/html": [
       "<div>\n",
       "<style scoped>\n",
       "    .dataframe tbody tr th:only-of-type {\n",
       "        vertical-align: middle;\n",
       "    }\n",
       "\n",
       "    .dataframe tbody tr th {\n",
       "        vertical-align: top;\n",
       "    }\n",
       "\n",
       "    .dataframe thead th {\n",
       "        text-align: right;\n",
       "    }\n",
       "</style>\n",
       "<table border=\"1\" class=\"dataframe\">\n",
       "  <thead>\n",
       "    <tr style=\"text-align: right;\">\n",
       "      <th></th>\n",
       "      <th>HomePlanet</th>\n",
       "      <th>CryoSleep</th>\n",
       "      <th>Destination</th>\n",
       "      <th>Age</th>\n",
       "      <th>VIP</th>\n",
       "      <th>RoomService</th>\n",
       "      <th>FoodCourt</th>\n",
       "      <th>ShoppingMall</th>\n",
       "      <th>Spa</th>\n",
       "      <th>VRDeck</th>\n",
       "      <th>Transported</th>\n",
       "      <th>Deck</th>\n",
       "      <th>Num</th>\n",
       "      <th>Side</th>\n",
       "      <th>Group</th>\n",
       "      <th>NoOfPassengers</th>\n",
       "      <th>Leisure_Total</th>\n",
       "    </tr>\n",
       "  </thead>\n",
       "  <tbody>\n",
       "    <tr>\n",
       "      <th>0</th>\n",
       "      <td>1</td>\n",
       "      <td>1</td>\n",
       "      <td>2</td>\n",
       "      <td>39.0</td>\n",
       "      <td>0</td>\n",
       "      <td>0.0</td>\n",
       "      <td>0.0</td>\n",
       "      <td>0.0</td>\n",
       "      <td>0.0</td>\n",
       "      <td>0.0</td>\n",
       "      <td>0</td>\n",
       "      <td>1</td>\n",
       "      <td>0</td>\n",
       "      <td>0</td>\n",
       "      <td>0</td>\n",
       "      <td>01</td>\n",
       "      <td>0.0</td>\n",
       "    </tr>\n",
       "    <tr>\n",
       "      <th>1</th>\n",
       "      <td>0</td>\n",
       "      <td>0</td>\n",
       "      <td>2</td>\n",
       "      <td>24.0</td>\n",
       "      <td>0</td>\n",
       "      <td>109.0</td>\n",
       "      <td>9.0</td>\n",
       "      <td>25.0</td>\n",
       "      <td>549.0</td>\n",
       "      <td>44.0</td>\n",
       "      <td>1</td>\n",
       "      <td>5</td>\n",
       "      <td>0</td>\n",
       "      <td>1</td>\n",
       "      <td>1</td>\n",
       "      <td>01</td>\n",
       "      <td>736.0</td>\n",
       "    </tr>\n",
       "    <tr>\n",
       "      <th>2</th>\n",
       "      <td>1</td>\n",
       "      <td>0</td>\n",
       "      <td>2</td>\n",
       "      <td>58.0</td>\n",
       "      <td>1</td>\n",
       "      <td>43.0</td>\n",
       "      <td>3576.0</td>\n",
       "      <td>0.0</td>\n",
       "      <td>6715.0</td>\n",
       "      <td>49.0</td>\n",
       "      <td>0</td>\n",
       "      <td>0</td>\n",
       "      <td>0</td>\n",
       "      <td>1</td>\n",
       "      <td>2</td>\n",
       "      <td>01</td>\n",
       "      <td>10383.0</td>\n",
       "    </tr>\n",
       "    <tr>\n",
       "      <th>3</th>\n",
       "      <td>1</td>\n",
       "      <td>0</td>\n",
       "      <td>2</td>\n",
       "      <td>33.0</td>\n",
       "      <td>0</td>\n",
       "      <td>0.0</td>\n",
       "      <td>1283.0</td>\n",
       "      <td>371.0</td>\n",
       "      <td>3329.0</td>\n",
       "      <td>193.0</td>\n",
       "      <td>0</td>\n",
       "      <td>0</td>\n",
       "      <td>0</td>\n",
       "      <td>1</td>\n",
       "      <td>2</td>\n",
       "      <td>02</td>\n",
       "      <td>5176.0</td>\n",
       "    </tr>\n",
       "    <tr>\n",
       "      <th>4</th>\n",
       "      <td>0</td>\n",
       "      <td>0</td>\n",
       "      <td>2</td>\n",
       "      <td>16.0</td>\n",
       "      <td>0</td>\n",
       "      <td>303.0</td>\n",
       "      <td>70.0</td>\n",
       "      <td>151.0</td>\n",
       "      <td>565.0</td>\n",
       "      <td>2.0</td>\n",
       "      <td>1</td>\n",
       "      <td>5</td>\n",
       "      <td>1</td>\n",
       "      <td>1</td>\n",
       "      <td>3</td>\n",
       "      <td>01</td>\n",
       "      <td>1091.0</td>\n",
       "    </tr>\n",
       "  </tbody>\n",
       "</table>\n",
       "</div>"
      ],
      "text/plain": [
       "   HomePlanet  CryoSleep  Destination   Age  VIP  RoomService  FoodCourt  \\\n",
       "0           1          1            2  39.0    0          0.0        0.0   \n",
       "1           0          0            2  24.0    0        109.0        9.0   \n",
       "2           1          0            2  58.0    1         43.0     3576.0   \n",
       "3           1          0            2  33.0    0          0.0     1283.0   \n",
       "4           0          0            2  16.0    0        303.0       70.0   \n",
       "\n",
       "   ShoppingMall     Spa  VRDeck  Transported  Deck Num  Side  Group  \\\n",
       "0           0.0     0.0     0.0            0     1   0     0      0   \n",
       "1          25.0   549.0    44.0            1     5   0     1      1   \n",
       "2           0.0  6715.0    49.0            0     0   0     1      2   \n",
       "3         371.0  3329.0   193.0            0     0   0     1      2   \n",
       "4         151.0   565.0     2.0            1     5   1     1      3   \n",
       "\n",
       "  NoOfPassengers  Leisure_Total  \n",
       "0             01            0.0  \n",
       "1             01          736.0  \n",
       "2             01        10383.0  \n",
       "3             02         5176.0  \n",
       "4             01         1091.0  "
      ]
     },
     "execution_count": 119,
     "metadata": {},
     "output_type": "execute_result"
    }
   ],
   "source": [
    "train.head()"
   ]
  },
  {
   "cell_type": "code",
   "execution_count": 120,
   "id": "3b04fce7",
   "metadata": {},
   "outputs": [],
   "source": [
    "x = train.drop('Transported',axis=1).values\n",
    "y = train['Transported'].values"
   ]
  },
  {
   "cell_type": "code",
   "execution_count": 121,
   "id": "79225592",
   "metadata": {},
   "outputs": [],
   "source": [
    "x_train,x_test,y_train,y_test = train_test_split(x,y,test_size=0.2,random_state=42)"
   ]
  },
  {
   "cell_type": "code",
   "execution_count": 122,
   "id": "28677e3e",
   "metadata": {},
   "outputs": [],
   "source": [
    "# model = CatBoostClassifier()\n",
    "\n",
    "# model = XGBClassifier()\n",
    "\n",
    "hyperparameters = {\n",
    "    'l2_leaf_reg': 1,\n",
    "    'learning_rate': 0.1,\n",
    "    'max_depth': 7,\n",
    "    'n_estimators': 150\n",
    "}\n",
    "\n",
    "model = CatBoostClassifier(\n",
    "    l2_leaf_reg=hyperparameters['l2_leaf_reg'],\n",
    "    learning_rate=hyperparameters['learning_rate'],\n",
    "    max_depth=hyperparameters['max_depth'],\n",
    "    n_estimators=hyperparameters['n_estimators'])\n",
    "\n",
    "# model = XGBClassifier(learning_rate=hyperparameters['learning_rate'],\n",
    "#     max_depth=hyperparameters['max_depth'],\n",
    "#     n_estimators=hyperparameters['n_estimators'])\n",
    "\n",
    "# model = GradientBoostingClassifier(n_estimators=100,learning_rate=0.1,max_depth=3)\n",
    "\n",
    "# model = GradientBoostingClassifier()\n",
    "\n",
    "# model = RandomForestClassifier(max_depth=11, n_estimators=101, random_state=1)"
   ]
  },
  {
   "cell_type": "code",
   "execution_count": 123,
   "id": "3e655bcc",
   "metadata": {},
   "outputs": [],
   "source": [
    "# hyperparameters = {\n",
    " \n",
    "#     'learning_rate': 0.1,\n",
    "#     'max_depth': 5,\n",
    "#     'n_estimators': 100\n",
    "# }\n",
    "\n",
    "# estimators = []\n",
    "\n",
    "# model2 = LogisticRegression(solver='lbfgs', random_state=42)\n",
    "# estimators.append(('LR', model2))\n",
    "\n",
    "# model3 = RandomForestClassifier(n_estimators=200, random_state=42)\n",
    "# estimators.append(('RFC', model3))\n",
    "\n",
    "# model4 = XGBClassifier(\n",
    "#     learning_rate=hyperparameters['learning_rate'],\n",
    "#     max_depth=hyperparameters['max_depth'],\n",
    "#     n_estimators=hyperparameters['n_estimators'])\n",
    "# estimators.append(('XGBC', model4))\n",
    "\n",
    "# model5 = CatBoostClassifier(\n",
    "#     learning_rate=hyperparameters['learning_rate'],\n",
    "#     max_depth=hyperparameters['max_depth'],\n",
    "#     n_estimators=hyperparameters['n_estimators'])\n",
    "# estimators.append(('CBC', model5))\n",
    "\n",
    "# model6 = GradientBoostingClassifier(\n",
    "#     n_estimators=100,learning_rate=0.1,max_depth=3)\n",
    "# estimators.append(('GBC', model6))\n",
    "\n",
    "# model = VotingClassifier(estimators)"
   ]
  },
  {
   "cell_type": "code",
   "execution_count": 124,
   "id": "d97bfaa5",
   "metadata": {},
   "outputs": [
    {
     "name": "stdout",
     "output_type": "stream",
     "text": [
      "0:\tlearn: 0.6603594\ttotal: 161ms\tremaining: 24s\n",
      "1:\tlearn: 0.6336511\ttotal: 165ms\tremaining: 12.2s\n",
      "2:\tlearn: 0.6079293\ttotal: 168ms\tremaining: 8.23s\n",
      "3:\tlearn: 0.5870747\ttotal: 171ms\tremaining: 6.24s\n",
      "4:\tlearn: 0.5696789\ttotal: 174ms\tremaining: 5.04s\n",
      "5:\tlearn: 0.5545516\ttotal: 177ms\tremaining: 4.25s\n",
      "6:\tlearn: 0.5412923\ttotal: 180ms\tremaining: 3.67s\n",
      "7:\tlearn: 0.5288168\ttotal: 183ms\tremaining: 3.25s\n",
      "8:\tlearn: 0.5182498\ttotal: 186ms\tremaining: 2.91s\n",
      "9:\tlearn: 0.5090118\ttotal: 189ms\tremaining: 2.64s\n",
      "10:\tlearn: 0.5011748\ttotal: 192ms\tremaining: 2.42s\n",
      "11:\tlearn: 0.4943853\ttotal: 195ms\tremaining: 2.24s\n",
      "12:\tlearn: 0.4870541\ttotal: 198ms\tremaining: 2.09s\n",
      "13:\tlearn: 0.4819241\ttotal: 201ms\tremaining: 1.96s\n",
      "14:\tlearn: 0.4761065\ttotal: 205ms\tremaining: 1.84s\n",
      "15:\tlearn: 0.4714255\ttotal: 208ms\tremaining: 1.74s\n",
      "16:\tlearn: 0.4657326\ttotal: 211ms\tremaining: 1.65s\n",
      "17:\tlearn: 0.4612713\ttotal: 214ms\tremaining: 1.57s\n",
      "18:\tlearn: 0.4568467\ttotal: 218ms\tremaining: 1.5s\n",
      "19:\tlearn: 0.4529785\ttotal: 221ms\tremaining: 1.44s\n",
      "20:\tlearn: 0.4498959\ttotal: 224ms\tremaining: 1.38s\n",
      "21:\tlearn: 0.4462979\ttotal: 227ms\tremaining: 1.32s\n",
      "22:\tlearn: 0.4440647\ttotal: 231ms\tremaining: 1.27s\n",
      "23:\tlearn: 0.4407380\ttotal: 234ms\tremaining: 1.23s\n",
      "24:\tlearn: 0.4372181\ttotal: 238ms\tremaining: 1.19s\n",
      "25:\tlearn: 0.4353579\ttotal: 241ms\tremaining: 1.15s\n",
      "26:\tlearn: 0.4328478\ttotal: 245ms\tremaining: 1.11s\n",
      "27:\tlearn: 0.4295802\ttotal: 248ms\tremaining: 1.08s\n",
      "28:\tlearn: 0.4267774\ttotal: 251ms\tremaining: 1.05s\n",
      "29:\tlearn: 0.4238183\ttotal: 255ms\tremaining: 1.02s\n",
      "30:\tlearn: 0.4219788\ttotal: 258ms\tremaining: 992ms\n",
      "31:\tlearn: 0.4195834\ttotal: 262ms\tremaining: 966ms\n",
      "32:\tlearn: 0.4174802\ttotal: 265ms\tremaining: 941ms\n",
      "33:\tlearn: 0.4160374\ttotal: 269ms\tremaining: 918ms\n",
      "34:\tlearn: 0.4145445\ttotal: 273ms\tremaining: 896ms\n",
      "35:\tlearn: 0.4131508\ttotal: 276ms\tremaining: 875ms\n",
      "36:\tlearn: 0.4115435\ttotal: 280ms\tremaining: 855ms\n",
      "37:\tlearn: 0.4102193\ttotal: 284ms\tremaining: 837ms\n",
      "38:\tlearn: 0.4090925\ttotal: 288ms\tremaining: 819ms\n",
      "39:\tlearn: 0.4068538\ttotal: 291ms\tremaining: 801ms\n",
      "40:\tlearn: 0.4057327\ttotal: 295ms\tremaining: 784ms\n",
      "41:\tlearn: 0.4043324\ttotal: 299ms\tremaining: 768ms\n",
      "42:\tlearn: 0.4033803\ttotal: 303ms\tremaining: 753ms\n",
      "43:\tlearn: 0.4026328\ttotal: 306ms\tremaining: 738ms\n",
      "44:\tlearn: 0.4016397\ttotal: 310ms\tremaining: 723ms\n",
      "45:\tlearn: 0.3988394\ttotal: 314ms\tremaining: 709ms\n",
      "46:\tlearn: 0.3980047\ttotal: 317ms\tremaining: 695ms\n",
      "47:\tlearn: 0.3971347\ttotal: 321ms\tremaining: 682ms\n",
      "48:\tlearn: 0.3947783\ttotal: 324ms\tremaining: 669ms\n",
      "49:\tlearn: 0.3941817\ttotal: 328ms\tremaining: 656ms\n",
      "50:\tlearn: 0.3925297\ttotal: 332ms\tremaining: 644ms\n",
      "51:\tlearn: 0.3904503\ttotal: 335ms\tremaining: 632ms\n",
      "52:\tlearn: 0.3889107\ttotal: 339ms\tremaining: 621ms\n",
      "53:\tlearn: 0.3879235\ttotal: 343ms\tremaining: 610ms\n",
      "54:\tlearn: 0.3872037\ttotal: 347ms\tremaining: 599ms\n",
      "55:\tlearn: 0.3867528\ttotal: 352ms\tremaining: 590ms\n",
      "56:\tlearn: 0.3853443\ttotal: 357ms\tremaining: 583ms\n",
      "57:\tlearn: 0.3847922\ttotal: 362ms\tremaining: 574ms\n",
      "58:\tlearn: 0.3843105\ttotal: 366ms\tremaining: 565ms\n",
      "59:\tlearn: 0.3828385\ttotal: 370ms\tremaining: 556ms\n",
      "60:\tlearn: 0.3814248\ttotal: 375ms\tremaining: 547ms\n",
      "61:\tlearn: 0.3803593\ttotal: 379ms\tremaining: 538ms\n",
      "62:\tlearn: 0.3796388\ttotal: 382ms\tremaining: 528ms\n",
      "63:\tlearn: 0.3791500\ttotal: 386ms\tremaining: 519ms\n",
      "64:\tlearn: 0.3784956\ttotal: 390ms\tremaining: 510ms\n",
      "65:\tlearn: 0.3780343\ttotal: 393ms\tremaining: 501ms\n",
      "66:\tlearn: 0.3772724\ttotal: 397ms\tremaining: 492ms\n",
      "67:\tlearn: 0.3766332\ttotal: 401ms\tremaining: 484ms\n",
      "68:\tlearn: 0.3758940\ttotal: 405ms\tremaining: 475ms\n",
      "69:\tlearn: 0.3753710\ttotal: 408ms\tremaining: 467ms\n",
      "70:\tlearn: 0.3748662\ttotal: 412ms\tremaining: 459ms\n",
      "71:\tlearn: 0.3741804\ttotal: 416ms\tremaining: 451ms\n",
      "72:\tlearn: 0.3729058\ttotal: 420ms\tremaining: 443ms\n",
      "73:\tlearn: 0.3720663\ttotal: 424ms\tremaining: 435ms\n",
      "74:\tlearn: 0.3714369\ttotal: 427ms\tremaining: 427ms\n",
      "75:\tlearn: 0.3707477\ttotal: 431ms\tremaining: 420ms\n",
      "76:\tlearn: 0.3703463\ttotal: 435ms\tremaining: 412ms\n",
      "77:\tlearn: 0.3698441\ttotal: 438ms\tremaining: 405ms\n",
      "78:\tlearn: 0.3694631\ttotal: 442ms\tremaining: 397ms\n",
      "79:\tlearn: 0.3689676\ttotal: 445ms\tremaining: 390ms\n",
      "80:\tlearn: 0.3682356\ttotal: 449ms\tremaining: 383ms\n",
      "81:\tlearn: 0.3678137\ttotal: 453ms\tremaining: 375ms\n",
      "82:\tlearn: 0.3672264\ttotal: 456ms\tremaining: 368ms\n",
      "83:\tlearn: 0.3663533\ttotal: 460ms\tremaining: 361ms\n",
      "84:\tlearn: 0.3651002\ttotal: 464ms\tremaining: 355ms\n",
      "85:\tlearn: 0.3642487\ttotal: 468ms\tremaining: 348ms\n",
      "86:\tlearn: 0.3638326\ttotal: 472ms\tremaining: 341ms\n",
      "87:\tlearn: 0.3632995\ttotal: 475ms\tremaining: 335ms\n",
      "88:\tlearn: 0.3627985\ttotal: 479ms\tremaining: 328ms\n",
      "89:\tlearn: 0.3622162\ttotal: 483ms\tremaining: 322ms\n",
      "90:\tlearn: 0.3617651\ttotal: 487ms\tremaining: 316ms\n",
      "91:\tlearn: 0.3610960\ttotal: 491ms\tremaining: 309ms\n",
      "92:\tlearn: 0.3607447\ttotal: 495ms\tremaining: 303ms\n",
      "93:\tlearn: 0.3599332\ttotal: 499ms\tremaining: 297ms\n",
      "94:\tlearn: 0.3592889\ttotal: 503ms\tremaining: 291ms\n",
      "95:\tlearn: 0.3586416\ttotal: 506ms\tremaining: 285ms\n",
      "96:\tlearn: 0.3583349\ttotal: 510ms\tremaining: 279ms\n",
      "97:\tlearn: 0.3576171\ttotal: 514ms\tremaining: 273ms\n",
      "98:\tlearn: 0.3564415\ttotal: 518ms\tremaining: 267ms\n",
      "99:\tlearn: 0.3561105\ttotal: 522ms\tremaining: 261ms\n",
      "100:\tlearn: 0.3555942\ttotal: 526ms\tremaining: 255ms\n",
      "101:\tlearn: 0.3549128\ttotal: 529ms\tremaining: 249ms\n",
      "102:\tlearn: 0.3533954\ttotal: 533ms\tremaining: 243ms\n",
      "103:\tlearn: 0.3527776\ttotal: 538ms\tremaining: 238ms\n",
      "104:\tlearn: 0.3524006\ttotal: 543ms\tremaining: 233ms\n",
      "105:\tlearn: 0.3518180\ttotal: 547ms\tremaining: 227ms\n",
      "106:\tlearn: 0.3514764\ttotal: 552ms\tremaining: 222ms\n",
      "107:\tlearn: 0.3507507\ttotal: 557ms\tremaining: 217ms\n",
      "108:\tlearn: 0.3502734\ttotal: 561ms\tremaining: 211ms\n",
      "109:\tlearn: 0.3498380\ttotal: 566ms\tremaining: 206ms\n",
      "110:\tlearn: 0.3493190\ttotal: 570ms\tremaining: 200ms\n",
      "111:\tlearn: 0.3486418\ttotal: 573ms\tremaining: 194ms\n",
      "112:\tlearn: 0.3481786\ttotal: 577ms\tremaining: 189ms\n",
      "113:\tlearn: 0.3478315\ttotal: 580ms\tremaining: 183ms\n",
      "114:\tlearn: 0.3474410\ttotal: 584ms\tremaining: 178ms\n",
      "115:\tlearn: 0.3469279\ttotal: 588ms\tremaining: 172ms\n",
      "116:\tlearn: 0.3465390\ttotal: 591ms\tremaining: 167ms\n",
      "117:\tlearn: 0.3461629\ttotal: 595ms\tremaining: 161ms\n",
      "118:\tlearn: 0.3454055\ttotal: 599ms\tremaining: 156ms\n",
      "119:\tlearn: 0.3448871\ttotal: 602ms\tremaining: 151ms\n",
      "120:\tlearn: 0.3446055\ttotal: 606ms\tremaining: 145ms\n",
      "121:\tlearn: 0.3441319\ttotal: 610ms\tremaining: 140ms\n",
      "122:\tlearn: 0.3432050\ttotal: 613ms\tremaining: 135ms\n",
      "123:\tlearn: 0.3423645\ttotal: 617ms\tremaining: 129ms\n",
      "124:\tlearn: 0.3416079\ttotal: 621ms\tremaining: 124ms\n",
      "125:\tlearn: 0.3412409\ttotal: 624ms\tremaining: 119ms\n",
      "126:\tlearn: 0.3400711\ttotal: 628ms\tremaining: 114ms\n",
      "127:\tlearn: 0.3395303\ttotal: 632ms\tremaining: 109ms\n",
      "128:\tlearn: 0.3387022\ttotal: 636ms\tremaining: 103ms\n",
      "129:\tlearn: 0.3382332\ttotal: 639ms\tremaining: 98.4ms\n",
      "130:\tlearn: 0.3379779\ttotal: 643ms\tremaining: 93.2ms\n",
      "131:\tlearn: 0.3376442\ttotal: 647ms\tremaining: 88.2ms\n",
      "132:\tlearn: 0.3366922\ttotal: 650ms\tremaining: 83.1ms\n",
      "133:\tlearn: 0.3364696\ttotal: 654ms\tremaining: 78.1ms\n",
      "134:\tlearn: 0.3355673\ttotal: 658ms\tremaining: 73.1ms\n",
      "135:\tlearn: 0.3352033\ttotal: 661ms\tremaining: 68.1ms\n",
      "136:\tlearn: 0.3346942\ttotal: 665ms\tremaining: 63.1ms\n",
      "137:\tlearn: 0.3342388\ttotal: 669ms\tremaining: 58.2ms\n",
      "138:\tlearn: 0.3338893\ttotal: 672ms\tremaining: 53.2ms\n",
      "139:\tlearn: 0.3334291\ttotal: 676ms\tremaining: 48.3ms\n",
      "140:\tlearn: 0.3331414\ttotal: 680ms\tremaining: 43.4ms\n",
      "141:\tlearn: 0.3327542\ttotal: 683ms\tremaining: 38.5ms\n",
      "142:\tlearn: 0.3322820\ttotal: 687ms\tremaining: 33.6ms\n",
      "143:\tlearn: 0.3318206\ttotal: 691ms\tremaining: 28.8ms\n",
      "144:\tlearn: 0.3313037\ttotal: 694ms\tremaining: 23.9ms\n",
      "145:\tlearn: 0.3308153\ttotal: 698ms\tremaining: 19.1ms\n",
      "146:\tlearn: 0.3305092\ttotal: 702ms\tremaining: 14.3ms\n",
      "147:\tlearn: 0.3301678\ttotal: 706ms\tremaining: 9.53ms\n",
      "148:\tlearn: 0.3299628\ttotal: 709ms\tremaining: 4.76ms\n",
      "149:\tlearn: 0.3297759\ttotal: 713ms\tremaining: 0us\n"
     ]
    },
    {
     "data": {
      "text/plain": [
       "<catboost.core.CatBoostClassifier at 0x25d36bfaa10>"
      ]
     },
     "execution_count": 124,
     "metadata": {},
     "output_type": "execute_result"
    }
   ],
   "source": [
    "model.fit(x_train,y_train)"
   ]
  },
  {
   "cell_type": "code",
   "execution_count": 125,
   "id": "43297ae7",
   "metadata": {},
   "outputs": [
    {
     "data": {
      "text/plain": [
       "0.8537532355478861"
      ]
     },
     "execution_count": 125,
     "metadata": {},
     "output_type": "execute_result"
    }
   ],
   "source": [
    "model.score(x_train,y_train)"
   ]
  },
  {
   "cell_type": "code",
   "execution_count": 126,
   "id": "fd6e7303",
   "metadata": {},
   "outputs": [
    {
     "data": {
      "text/plain": [
       "0.8033352501437608"
      ]
     },
     "execution_count": 126,
     "metadata": {},
     "output_type": "execute_result"
    }
   ],
   "source": [
    "model.score(x_test,y_test)"
   ]
  }
 ],
 "metadata": {
  "kernelspec": {
   "display_name": "Python 3 (ipykernel)",
   "language": "python",
   "name": "python3"
  },
  "language_info": {
   "codemirror_mode": {
    "name": "ipython",
    "version": 3
   },
   "file_extension": ".py",
   "mimetype": "text/x-python",
   "name": "python",
   "nbconvert_exporter": "python",
   "pygments_lexer": "ipython3",
   "version": "3.11.4"
  }
 },
 "nbformat": 4,
 "nbformat_minor": 5
}
